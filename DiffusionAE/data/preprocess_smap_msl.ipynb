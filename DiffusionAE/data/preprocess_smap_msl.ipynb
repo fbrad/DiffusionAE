{
 "cells": [
  {
   "cell_type": "code",
   "execution_count": 1,
   "metadata": {},
   "outputs": [
    {
     "name": "stdout",
     "output_type": "stream",
     "text": [
      "/mts/SMAP_MSL/data\n"
     ]
    }
   ],
   "source": [
    "%cd '../../../../mts/SMAP_MSL/data'"
   ]
  },
  {
   "cell_type": "code",
   "execution_count": 2,
   "metadata": {},
   "outputs": [
    {
     "data": {
      "text/plain": [
       "'/mts/SMAP_MSL/data'"
      ]
     },
     "execution_count": 2,
     "metadata": {},
     "output_type": "execute_result"
    }
   ],
   "source": [
    "%pwd"
   ]
  },
  {
   "cell_type": "code",
   "execution_count": 3,
   "metadata": {},
   "outputs": [],
   "source": [
    "train_folder = '../../../../mts/SMAP_MSL/data/train/'\n",
    "test_folder = '../../../../mts/SMAP_MSL/data/test/'"
   ]
  },
  {
   "cell_type": "code",
   "execution_count": 4,
   "metadata": {},
   "outputs": [],
   "source": [
    "import numpy as np\n",
    "import pandas as pd\n",
    "import os"
   ]
  },
  {
   "cell_type": "code",
   "execution_count": 5,
   "metadata": {},
   "outputs": [],
   "source": [
    "labeled_anomalies = pd.read_csv('../../../../mts/SMAP_MSL/data/labeled_anomalies.csv')"
   ]
  },
  {
   "cell_type": "code",
   "execution_count": 6,
   "metadata": {},
   "outputs": [
    {
     "data": {
      "text/html": [
       "<div>\n",
       "<style scoped>\n",
       "    .dataframe tbody tr th:only-of-type {\n",
       "        vertical-align: middle;\n",
       "    }\n",
       "\n",
       "    .dataframe tbody tr th {\n",
       "        vertical-align: top;\n",
       "    }\n",
       "\n",
       "    .dataframe thead th {\n",
       "        text-align: right;\n",
       "    }\n",
       "</style>\n",
       "<table border=\"1\" class=\"dataframe\">\n",
       "  <thead>\n",
       "    <tr style=\"text-align: right;\">\n",
       "      <th></th>\n",
       "      <th>chan_id</th>\n",
       "      <th>spacecraft</th>\n",
       "      <th>anomaly_sequences</th>\n",
       "      <th>class</th>\n",
       "      <th>num_values</th>\n",
       "    </tr>\n",
       "  </thead>\n",
       "  <tbody>\n",
       "    <tr>\n",
       "      <th>0</th>\n",
       "      <td>P-1</td>\n",
       "      <td>SMAP</td>\n",
       "      <td>[[2149, 2349], [4536, 4844], [3539, 3779]]</td>\n",
       "      <td>[contextual, contextual, contextual]</td>\n",
       "      <td>8505</td>\n",
       "    </tr>\n",
       "    <tr>\n",
       "      <th>1</th>\n",
       "      <td>S-1</td>\n",
       "      <td>SMAP</td>\n",
       "      <td>[[5300, 5747]]</td>\n",
       "      <td>[point]</td>\n",
       "      <td>7331</td>\n",
       "    </tr>\n",
       "    <tr>\n",
       "      <th>2</th>\n",
       "      <td>E-1</td>\n",
       "      <td>SMAP</td>\n",
       "      <td>[[5000, 5030], [5610, 6086]]</td>\n",
       "      <td>[contextual, contextual]</td>\n",
       "      <td>8516</td>\n",
       "    </tr>\n",
       "    <tr>\n",
       "      <th>3</th>\n",
       "      <td>E-2</td>\n",
       "      <td>SMAP</td>\n",
       "      <td>[[5598, 6995]]</td>\n",
       "      <td>[point]</td>\n",
       "      <td>8532</td>\n",
       "    </tr>\n",
       "    <tr>\n",
       "      <th>4</th>\n",
       "      <td>E-3</td>\n",
       "      <td>SMAP</td>\n",
       "      <td>[[5094, 8306]]</td>\n",
       "      <td>[point]</td>\n",
       "      <td>8307</td>\n",
       "    </tr>\n",
       "  </tbody>\n",
       "</table>\n",
       "</div>"
      ],
      "text/plain": [
       "  chan_id spacecraft                           anomaly_sequences  \\\n",
       "0     P-1       SMAP  [[2149, 2349], [4536, 4844], [3539, 3779]]   \n",
       "1     S-1       SMAP                              [[5300, 5747]]   \n",
       "2     E-1       SMAP                [[5000, 5030], [5610, 6086]]   \n",
       "3     E-2       SMAP                              [[5598, 6995]]   \n",
       "4     E-3       SMAP                              [[5094, 8306]]   \n",
       "\n",
       "                                  class  num_values  \n",
       "0  [contextual, contextual, contextual]        8505  \n",
       "1                               [point]        7331  \n",
       "2              [contextual, contextual]        8516  \n",
       "3                               [point]        8532  \n",
       "4                               [point]        8307  "
      ]
     },
     "execution_count": 6,
     "metadata": {},
     "output_type": "execute_result"
    }
   ],
   "source": [
    "labeled_anomalies.head()"
   ]
  },
  {
   "cell_type": "code",
   "execution_count": 6,
   "metadata": {},
   "outputs": [],
   "source": [
    "random_file = np.load(test_folder + 'A-1.npy')"
   ]
  },
  {
   "cell_type": "code",
   "execution_count": 5,
   "metadata": {},
   "outputs": [
    {
     "name": "stderr",
     "output_type": "stream",
     "text": [
      "/root/.conda/envs/py3.9test/lib/python3.9/site-packages/scipy/__init__.py:138: UserWarning: A NumPy version >=1.16.5 and <1.23.0 is required for this version of SciPy (detected version 1.23.1)\n",
      "  warnings.warn(f\"A NumPy version >={np_minversion} and <{np_maxversion} is required for this version of \"\n"
     ]
    }
   ],
   "source": [
    "from sklearn.preprocessing import MinMaxScaler\n",
    "\n",
    "def scale_data(train, test):\n",
    "    scaler = MinMaxScaler(feature_range=(0, 1), clip=True).fit(train)\n",
    "\n",
    "    train_scaled = scaler.transform(train)\n",
    "    test_scaled = scaler.transform(test)\n",
    "\n",
    "    return train_scaled, test_scaled"
   ]
  },
  {
   "cell_type": "code",
   "execution_count": 39,
   "metadata": {},
   "outputs": [
    {
     "data": {
      "text/html": [
       "<div>\n",
       "<style scoped>\n",
       "    .dataframe tbody tr th:only-of-type {\n",
       "        vertical-align: middle;\n",
       "    }\n",
       "\n",
       "    .dataframe tbody tr th {\n",
       "        vertical-align: top;\n",
       "    }\n",
       "\n",
       "    .dataframe thead th {\n",
       "        text-align: right;\n",
       "    }\n",
       "</style>\n",
       "<table border=\"1\" class=\"dataframe\">\n",
       "  <thead>\n",
       "    <tr style=\"text-align: right;\">\n",
       "      <th></th>\n",
       "      <th>chan_id</th>\n",
       "      <th>spacecraft</th>\n",
       "      <th>anomaly_sequences</th>\n",
       "      <th>class</th>\n",
       "      <th>num_values</th>\n",
       "    </tr>\n",
       "  </thead>\n",
       "  <tbody>\n",
       "    <tr>\n",
       "      <th>0</th>\n",
       "      <td>P-1</td>\n",
       "      <td>SMAP</td>\n",
       "      <td>[[2149, 2349], [4536, 4844], [3539, 3779]]</td>\n",
       "      <td>[contextual, contextual, contextual]</td>\n",
       "      <td>8505</td>\n",
       "    </tr>\n",
       "    <tr>\n",
       "      <th>1</th>\n",
       "      <td>S-1</td>\n",
       "      <td>SMAP</td>\n",
       "      <td>[[5300, 5747]]</td>\n",
       "      <td>[point]</td>\n",
       "      <td>7331</td>\n",
       "    </tr>\n",
       "    <tr>\n",
       "      <th>2</th>\n",
       "      <td>E-1</td>\n",
       "      <td>SMAP</td>\n",
       "      <td>[[5000, 5030], [5610, 6086]]</td>\n",
       "      <td>[contextual, contextual]</td>\n",
       "      <td>8516</td>\n",
       "    </tr>\n",
       "    <tr>\n",
       "      <th>3</th>\n",
       "      <td>E-2</td>\n",
       "      <td>SMAP</td>\n",
       "      <td>[[5598, 6995]]</td>\n",
       "      <td>[point]</td>\n",
       "      <td>8532</td>\n",
       "    </tr>\n",
       "    <tr>\n",
       "      <th>4</th>\n",
       "      <td>E-3</td>\n",
       "      <td>SMAP</td>\n",
       "      <td>[[5094, 8306]]</td>\n",
       "      <td>[point]</td>\n",
       "      <td>8307</td>\n",
       "    </tr>\n",
       "  </tbody>\n",
       "</table>\n",
       "</div>"
      ],
      "text/plain": [
       "  chan_id spacecraft                           anomaly_sequences  \\\n",
       "0     P-1       SMAP  [[2149, 2349], [4536, 4844], [3539, 3779]]   \n",
       "1     S-1       SMAP                              [[5300, 5747]]   \n",
       "2     E-1       SMAP                [[5000, 5030], [5610, 6086]]   \n",
       "3     E-2       SMAP                              [[5598, 6995]]   \n",
       "4     E-3       SMAP                              [[5094, 8306]]   \n",
       "\n",
       "                                  class  num_values  \n",
       "0  [contextual, contextual, contextual]        8505  \n",
       "1                               [point]        7331  \n",
       "2              [contextual, contextual]        8516  \n",
       "3                               [point]        8532  \n",
       "4                               [point]        8307  "
      ]
     },
     "execution_count": 39,
     "metadata": {},
     "output_type": "execute_result"
    }
   ],
   "source": [
    "smap = labeled_anomalies[labeled_anomalies['spacecraft'] == 'SMAP']\n",
    "smap.head()"
   ]
  },
  {
   "cell_type": "code",
   "execution_count": 40,
   "metadata": {},
   "outputs": [
    {
     "data": {
      "text/html": [
       "<div>\n",
       "<style scoped>\n",
       "    .dataframe tbody tr th:only-of-type {\n",
       "        vertical-align: middle;\n",
       "    }\n",
       "\n",
       "    .dataframe tbody tr th {\n",
       "        vertical-align: top;\n",
       "    }\n",
       "\n",
       "    .dataframe thead th {\n",
       "        text-align: right;\n",
       "    }\n",
       "</style>\n",
       "<table border=\"1\" class=\"dataframe\">\n",
       "  <thead>\n",
       "    <tr style=\"text-align: right;\">\n",
       "      <th></th>\n",
       "      <th>chan_id</th>\n",
       "      <th>spacecraft</th>\n",
       "      <th>anomaly_sequences</th>\n",
       "      <th>class</th>\n",
       "      <th>num_values</th>\n",
       "    </tr>\n",
       "  </thead>\n",
       "  <tbody>\n",
       "    <tr>\n",
       "      <th>33</th>\n",
       "      <td>T-1</td>\n",
       "      <td>SMAP</td>\n",
       "      <td>[[2399, 3898], [6550, 6585]]</td>\n",
       "      <td>[point, contextual]</td>\n",
       "      <td>8612</td>\n",
       "    </tr>\n",
       "  </tbody>\n",
       "</table>\n",
       "</div>"
      ],
      "text/plain": [
       "   chan_id spacecraft             anomaly_sequences                class  \\\n",
       "33     T-1       SMAP  [[2399, 3898], [6550, 6585]]  [point, contextual]   \n",
       "\n",
       "    num_values  \n",
       "33        8612  "
      ]
     },
     "execution_count": 40,
     "metadata": {},
     "output_type": "execute_result"
    }
   ],
   "source": [
    "smap[smap['chan_id'] == 'T-1']"
   ]
  },
  {
   "cell_type": "code",
   "execution_count": 7,
   "metadata": {},
   "outputs": [
    {
     "data": {
      "text/html": [
       "<div>\n",
       "<style scoped>\n",
       "    .dataframe tbody tr th:only-of-type {\n",
       "        vertical-align: middle;\n",
       "    }\n",
       "\n",
       "    .dataframe tbody tr th {\n",
       "        vertical-align: top;\n",
       "    }\n",
       "\n",
       "    .dataframe thead th {\n",
       "        text-align: right;\n",
       "    }\n",
       "</style>\n",
       "<table border=\"1\" class=\"dataframe\">\n",
       "  <thead>\n",
       "    <tr style=\"text-align: right;\">\n",
       "      <th></th>\n",
       "      <th>chan_id</th>\n",
       "      <th>spacecraft</th>\n",
       "      <th>anomaly_sequences</th>\n",
       "      <th>class</th>\n",
       "      <th>num_values</th>\n",
       "    </tr>\n",
       "  </thead>\n",
       "  <tbody>\n",
       "    <tr>\n",
       "      <th>55</th>\n",
       "      <td>M-6</td>\n",
       "      <td>MSL</td>\n",
       "      <td>[[1850, 2030]]</td>\n",
       "      <td>[point]</td>\n",
       "      <td>2049</td>\n",
       "    </tr>\n",
       "    <tr>\n",
       "      <th>56</th>\n",
       "      <td>M-1</td>\n",
       "      <td>MSL</td>\n",
       "      <td>[[1110, 2250]]</td>\n",
       "      <td>[contextual]</td>\n",
       "      <td>2277</td>\n",
       "    </tr>\n",
       "    <tr>\n",
       "      <th>57</th>\n",
       "      <td>M-2</td>\n",
       "      <td>MSL</td>\n",
       "      <td>[[1110, 2250]]</td>\n",
       "      <td>[contextual]</td>\n",
       "      <td>2277</td>\n",
       "    </tr>\n",
       "    <tr>\n",
       "      <th>58</th>\n",
       "      <td>S-2</td>\n",
       "      <td>MSL</td>\n",
       "      <td>[[900, 910]]</td>\n",
       "      <td>[point]</td>\n",
       "      <td>1827</td>\n",
       "    </tr>\n",
       "    <tr>\n",
       "      <th>59</th>\n",
       "      <td>P-10</td>\n",
       "      <td>MSL</td>\n",
       "      <td>[[4590, 4720]]</td>\n",
       "      <td>[point]</td>\n",
       "      <td>6100</td>\n",
       "    </tr>\n",
       "  </tbody>\n",
       "</table>\n",
       "</div>"
      ],
      "text/plain": [
       "   chan_id spacecraft anomaly_sequences         class  num_values\n",
       "55     M-6        MSL    [[1850, 2030]]       [point]        2049\n",
       "56     M-1        MSL    [[1110, 2250]]  [contextual]        2277\n",
       "57     M-2        MSL    [[1110, 2250]]  [contextual]        2277\n",
       "58     S-2        MSL      [[900, 910]]       [point]        1827\n",
       "59    P-10        MSL    [[4590, 4720]]       [point]        6100"
      ]
     },
     "execution_count": 7,
     "metadata": {},
     "output_type": "execute_result"
    }
   ],
   "source": [
    "msl = labeled_anomalies[labeled_anomalies['spacecraft'] == 'MSL']\n",
    "msl.head()"
   ]
  },
  {
   "cell_type": "code",
   "execution_count": 41,
   "metadata": {},
   "outputs": [
    {
     "ename": "NameError",
     "evalue": "name 'msl' is not defined",
     "output_type": "error",
     "traceback": [
      "\u001b[0;31m---------------------------------------------------------------------------\u001b[0m",
      "\u001b[0;31mNameError\u001b[0m                                 Traceback (most recent call last)",
      "\u001b[1;32m/root/Diff-Anomaly/TranAD/data/preprocess_smap_msl.ipynb Cell 12\u001b[0m in \u001b[0;36m<cell line: 1>\u001b[0;34m()\u001b[0m\n\u001b[0;32m----> <a href='vscode-notebook-cell://ssh-remote%2Bipintilie-2.mlp.nmbapp.net/root/Diff-Anomaly/TranAD/data/preprocess_smap_msl.ipynb#X50sdnNjb2RlLXJlbW90ZQ%3D%3D?line=0'>1</a>\u001b[0m msl[msl[\u001b[39m'\u001b[39m\u001b[39mchan_id\u001b[39m\u001b[39m'\u001b[39m] \u001b[39m==\u001b[39m \u001b[39m'\u001b[39m\u001b[39mT-1\u001b[39m\u001b[39m'\u001b[39m]\n",
      "\u001b[0;31mNameError\u001b[0m: name 'msl' is not defined"
     ]
    }
   ],
   "source": [
    "msl[msl['chan_id'] == 'T-1']"
   ]
  },
  {
   "cell_type": "code",
   "execution_count": 12,
   "metadata": {},
   "outputs": [
    {
     "name": "stdout",
     "output_type": "stream",
     "text": [
      "27\n",
      "['C-1', 'C-2', 'D-14', 'D-15', 'D-16', 'F-4', 'F-5', 'F-7', 'F-8', 'M-1', 'M-2', 'M-3', 'M-4', 'M-5', 'M-6', 'M-7', 'P-10', 'P-11', 'P-14', 'P-15', 'S-2', 'T-12', 'T-13', 'T-4', 'T-5', 'T-8', 'T-9']\n"
     ]
    }
   ],
   "source": [
    "# smap_files = smap['chan_id'].values\n",
    "msl_files = msl['chan_id'].values\n",
    "# print(len(smap_files))\n",
    "print(len(msl_files))\n",
    "# print(smap_files)\n",
    "print(sorted(msl_files))"
   ]
  },
  {
   "cell_type": "code",
   "execution_count": 17,
   "metadata": {},
   "outputs": [
    {
     "name": "stdout",
     "output_type": "stream",
     "text": [
      "Original range for P-1: [-1.0  1.0], [-1.0 1.0]\n",
      "Scaled range for P-1: [0.0  1.0], [0.0 1.0]\n",
      "Original range for S-1: [-0.4  1.0], [-0.4 1.0]\n",
      "Scaled range for S-1: [0.0  1.0], [0.0 1.0]\n",
      "Original range for E-1: [-1.0  1.0], [-1.0 1.0]\n",
      "Scaled range for E-1: [0.0  1.0], [0.0 1.0]\n",
      "Original range for E-2: [-1.0  1.0], [-1.0 1.0]\n",
      "Scaled range for E-2: [0.0  1.0], [0.0 1.0]\n",
      "Original range for E-3: [-1.0  1.0], [-1.0 1.0]\n",
      "Scaled range for E-3: [0.0  1.0], [0.0 1.0]\n",
      "Original range for E-4: [-0.9999999999999998  1.0000000000000004], [-0.9999999999999998 1.0000000000000004]\n",
      "Scaled range for E-4: [0.0  1.0], [0.0 1.0]\n",
      "Original range for E-5: [-1.0  1.0], [-1.0 1.0]\n",
      "Scaled range for E-5: [0.0  1.0], [0.0 1.0]\n",
      "Original range for E-6: [0.0  1.0], [0.0 1.0]\n",
      "Scaled range for E-6: [0.0  1.0], [0.0 1.0]\n",
      "Original range for E-7: [-1.0  1.0], [-1.0 1.0]\n",
      "Scaled range for E-7: [0.0  1.0], [0.0 1.0]\n",
      "Original range for E-8: [-1.0  1.0], [-1.0 1.0]\n",
      "Scaled range for E-8: [0.0  1.0], [0.0 1.0]\n",
      "Original range for E-9: [-1.0  1.0000000000000018], [-1.0 1.0000000000000018]\n",
      "Scaled range for E-9: [0.0  1.0], [0.0 1.0]\n",
      "Original range for E-10: [-1.0  1.0], [-1.0 1.0]\n",
      "Scaled range for E-10: [0.0  1.0], [0.0 1.0]\n",
      "Original range for E-11: [-1.0  1.0], [-1.0 1.0]\n",
      "Scaled range for E-11: [0.0  1.0], [0.0 1.0]\n",
      "Original range for E-12: [-1.0  1.0000000000000002], [-1.0 1.0000000000000002]\n",
      "Scaled range for E-12: [0.0  1.0], [0.0 1.0]\n",
      "Original range for E-13: [-1.0  1.0000000000000002], [-1.0 1.0000000000000002]\n",
      "Scaled range for E-13: [0.0  1.0], [0.0 1.0]\n",
      "Original range for A-1: [0.0  1.0], [0.0 1.0]\n",
      "Scaled range for A-1: [0.0  1.0], [0.0 1.0]\n",
      "Original range for D-1: [-1.0  1.0], [-1.0 1.0]\n",
      "Scaled range for D-1: [0.0  1.0], [0.0 1.0]\n",
      "Original range for P-2: [-1.0  1.0], [-1.0 1.0]\n",
      "Scaled range for P-2: [0.0  1.0], [0.0 1.0]\n",
      "Original range for P-3: [-1.0  1.0], [-1.0 1.0]\n",
      "Scaled range for P-3: [0.0  1.0], [0.0 1.0]\n",
      "Original range for D-2: [-1.0  1.0], [-1.0 1.0]\n",
      "Scaled range for D-2: [0.0  1.0], [0.0 1.0]\n",
      "Original range for D-3: [-1.0  1.0], [-1.0 1.0]\n",
      "Scaled range for D-3: [0.0  1.0], [0.0 1.0]\n",
      "Original range for D-4: [-1.0  1.0], [-1.0 1.0]\n",
      "Scaled range for D-4: [0.0  1.0], [0.0 1.0]\n",
      "Original range for A-2: [-1.0  1.0], [-1.0 1.0]\n",
      "Scaled range for A-2: [0.0  1.0], [0.0 1.0]\n",
      "Original range for A-3: [-1.0  1.0], [-1.0 1.0]\n",
      "Scaled range for A-3: [0.0  1.0], [0.0 1.0]\n",
      "Original range for A-4: [-1.0  1.0], [-1.0 1.0]\n",
      "Scaled range for A-4: [0.0  1.0], [0.0 1.0]\n",
      "Original range for G-1: [-1.0  1.0], [-1.0 1.0]\n",
      "Scaled range for G-1: [0.0  1.0], [0.0 1.0]\n",
      "Original range for G-2: [-1.0  1.0], [-1.0 1.0]\n",
      "Scaled range for G-2: [0.0  1.0], [0.0 1.0]\n",
      "Original range for D-5: [0.0  1.0], [0.0 1.0]\n",
      "Scaled range for D-5: [0.0  1.0], [0.0 1.0]\n",
      "Original range for D-6: [-0.9999999999999999  1.0], [-0.9999999999999999 1.0]\n",
      "Scaled range for D-6: [0.0  1.0], [0.0 1.0]\n",
      "Original range for D-7: [-1.0  1.0], [-1.0 1.0]\n",
      "Scaled range for D-7: [0.0  1.0], [0.0 1.0]\n",
      "Original range for F-1: [-0.34  1.0], [-0.34 1.0]\n",
      "Scaled range for F-1: [0.0  1.0], [0.0 1.0]\n",
      "Original range for P-4: [-1.0  1.0], [-1.0 1.0]\n",
      "Scaled range for P-4: [0.0  1.0], [0.0 1.0]\n",
      "Original range for G-3: [-0.9999999999999998  1.0], [-0.9999999999999998 1.0]\n",
      "Scaled range for G-3: [0.0  1.0], [0.0 1.0]\n",
      "Original range for T-1: [-1.0  1.0], [-1.0 1.0]\n",
      "Scaled range for T-1: [0.0  1.0], [0.0 1.0]\n",
      "Original range for T-2: [-1.0  1.0], [-1.0 1.0]\n",
      "Scaled range for T-2: [0.0  1.0], [0.0 1.0]\n",
      "Original range for D-8: [-1.0  1.0], [-1.0 1.0]\n",
      "Scaled range for D-8: [0.0  1.0], [0.0 1.0]\n",
      "Original range for D-9: [-1.0  1.0], [-1.0 1.0]\n",
      "Scaled range for D-9: [0.0  1.0], [0.0 1.0]\n",
      "Original range for F-2: [-0.54  1.0], [-0.54 1.0]\n",
      "Scaled range for F-2: [0.0  1.0], [0.0 1.0]\n",
      "Original range for G-4: [0.0  1.0], [0.0 1.0]\n",
      "Scaled range for G-4: [0.0  1.0], [0.0 1.0]\n",
      "Original range for T-3: [0.0  1.0], [0.0 1.0]\n",
      "Scaled range for T-3: [0.0  1.0], [0.0 1.0]\n",
      "Original range for D-11: [-1.0  1.0], [-1.0 1.0]\n",
      "Scaled range for D-11: [0.0  1.0], [0.0 1.0]\n",
      "Original range for D-12: [-1.0  0.0], [-1.0 0.0]\n",
      "Scaled range for D-12: [0.0  0.0], [0.0 1.0]\n",
      "Original range for B-1: [-1.0  1.0], [-1.0 1.0]\n",
      "Scaled range for B-1: [0.0  1.0], [0.0 1.0]\n",
      "Original range for G-6: [-1.0  1.0], [-1.0 1.0]\n",
      "Scaled range for G-6: [0.0  1.0], [0.0 1.0]\n",
      "Original range for G-7: [-0.9999999999999998  1.0], [-0.9999999999999998 1.0]\n",
      "Scaled range for G-7: [0.0  1.0], [0.0 1.0]\n",
      "Original range for P-7: [-1.0  1.0], [-1.0 1.0]\n",
      "Scaled range for P-7: [0.0  1.0], [0.0 1.0]\n",
      "Original range for R-1: [0.0  1.0], [0.0 1.0]\n",
      "Scaled range for R-1: [0.0  1.0], [0.0 1.0]\n",
      "Original range for A-5: [-1.0  1.0], [-1.0 1.0]\n",
      "Scaled range for A-5: [0.0  1.0], [0.0 1.0]\n",
      "Original range for A-6: [-1.0  1.0], [-1.0 1.0]\n",
      "Scaled range for A-6: [0.0  1.0], [0.0 0.9999999999999999]\n",
      "Original range for A-7: [-1.0  1.0], [-1.0 1.0]\n",
      "Scaled range for A-7: [0.0  1.0], [0.0 1.0]\n",
      "Original range for D-13: [-1.0  0.0], [-1.0 0.0]\n",
      "Scaled range for D-13: [0.0  0.0], [0.0 1.0]\n",
      "Original range for P-2: [-1.0  1.0], [-1.0 1.0]\n",
      "Scaled range for P-2: [0.0  1.0], [0.0 1.0]\n",
      "Original range for A-8: [-1.0  1.0], [-1.0 1.0]\n",
      "Scaled range for A-8: [0.0  1.0], [0.0 1.0]\n",
      "Original range for A-9: [-1.0  1.0], [-1.0 1.0]\n",
      "Scaled range for A-9: [0.0  1.0], [0.0 1.0]\n",
      "Original range for F-3: [-1.0  1.0], [-1.0 1.0]\n",
      "Scaled range for F-3: [0.0  1.0], [0.0 1.0]\n"
     ]
    }
   ],
   "source": [
    "for file in smap_files:\n",
    "    # load\n",
    "    train_original = np.load(train_folder + f'{file}.npy')\n",
    "    test_original = np.load(test_folder + f'{file}.npy')\n",
    "    print(f'Original range for {file}: [{train_original.min()}  {train_original.max()}], [{train_original.min()} {train_original.max()}]')\n",
    "    # scale\n",
    "    train_scaled, test_scaled = scale_data(train_original, test_original)\n",
    "    print(f'Scaled range for {file}: [{train_scaled.min()}  {train_scaled.max()}], [{test_scaled.min()} {test_scaled.max()}]')\n",
    "    # build labels\n",
    "    labels = np.zeros_like(test_scaled)\n",
    "    indices = smap[smap['chan_id'] == file]['anomaly_sequences'].values[0]\n",
    "    indices = indices.replace(']', '').replace('[', '').split(', ')\n",
    "    indices = [int(i) for i in indices]\n",
    "    for i in range(0, len(indices), 2):\n",
    "        labels[indices[i]:indices[i+1], :] = 1\n",
    "    # save\n",
    "    dir = '../../TranAD/processed/SMAP'\n",
    "    os.makedirs(dir, exist_ok=True)\n",
    "    np.save(f'{dir}/{file}_train.npy', train_scaled)\n",
    "    np.save(f'{dir}/{file}_test.npy', test_scaled)\n",
    "    np.save(f'{dir}/{file}_labels.npy', labels)    \n"
   ]
  },
  {
   "cell_type": "code",
   "execution_count": 18,
   "metadata": {},
   "outputs": [
    {
     "name": "stdout",
     "output_type": "stream",
     "text": [
      "Original range for M-6: [-1.0  1.0], [-1.0 1.0]\n",
      "Scaled range for M-6: [0.0  1.0], [0.0 1.0]\n",
      "Original range for M-1: [-0.9160935512741932  2.4922982712327473], [-0.9160935512741932 2.4922982712327473]\n",
      "Scaled range for M-1: [0.0  1.0], [0.0 1.0]\n",
      "Original range for M-2: [-1.210726170949998  1.0], [-1.210726170949998 1.0]\n",
      "Scaled range for M-2: [0.0  1.0], [0.0 1.0]\n",
      "Original range for S-2: [-1.0  1.0], [-1.0 1.0]\n",
      "Scaled range for S-2: [0.0  1.0], [0.0 1.0]\n",
      "Original range for P-10: [0.0  1.001129464915996], [0.0 1.001129464915996]\n",
      "Scaled range for P-10: [0.0  1.0], [0.0 1.0]\n",
      "Original range for T-4: [-1.0  1.0], [-1.0 1.0]\n",
      "Scaled range for T-4: [0.0  1.0], [0.0 1.0]\n",
      "Original range for T-5: [-1.0  1.0], [-1.0 1.0]\n",
      "Scaled range for T-5: [0.0  1.0], [0.0 1.0]\n",
      "Original range for F-7: [-0.9999999999999998  1.0], [-0.9999999999999998 1.0]\n",
      "Scaled range for F-7: [0.0  1.0], [0.0 1.0]\n",
      "Original range for M-3: [-1.47721668720188  1.000070758018348], [-1.47721668720188 1.000070758018348]\n",
      "Scaled range for M-3: [0.0  1.0], [0.0 1.0]\n",
      "Original range for M-4: [-1.4654640190905774  1.00000547321409], [-1.4654640190905774 1.00000547321409]\n",
      "Scaled range for M-4: [0.0  1.0], [0.0 1.0]\n",
      "Original range for M-5: [-1.2550059949886205  1.0], [-1.2550059949886205 1.0]\n",
      "Scaled range for M-5: [0.0  1.0], [0.0 1.0]\n",
      "Original range for P-15: [0.0  1.0052196607220525], [0.0 1.0052196607220525]\n",
      "Scaled range for P-15: [0.0  1.0], [0.0 1.0]\n",
      "Original range for C-1: [-1.0  2.1934477379095165], [-1.0 2.1934477379095165]\n",
      "Scaled range for C-1: [0.0  1.0], [0.0 1.0]\n",
      "Original range for C-2: [-1.0  1.0], [-1.0 1.0]\n",
      "Scaled range for C-2: [0.0  1.0], [0.0 1.0]\n",
      "Original range for T-12: [-1.0  1.0], [-1.0 1.0]\n",
      "Scaled range for T-12: [0.0  1.0], [0.0 1.0]\n",
      "Original range for T-13: [-1.0  1.0], [-1.0 1.0]\n",
      "Scaled range for T-13: [0.0  1.0], [0.0 1.0]\n",
      "Original range for F-4: [-1.0  1.0], [-1.0 1.0]\n",
      "Scaled range for F-4: [0.0  1.0], [0.0 1.0]\n",
      "Original range for F-5: [-1.1163775338154294  4.162651279553374], [-1.1163775338154294 4.162651279553374]\n",
      "Scaled range for F-5: [0.0  1.0], [0.0 1.0]\n",
      "Original range for D-14: [-1.0  1.0], [-1.0 1.0]\n",
      "Scaled range for D-14: [0.0  1.0], [0.0 1.0]\n",
      "Original range for T-9: [-1.0  1.0], [-1.0 1.0]\n",
      "Scaled range for T-9: [0.0  1.0], [0.0 1.0]\n",
      "Original range for P-14: [0.0  1.0], [0.0 1.0]\n",
      "Scaled range for P-14: [0.0  1.0], [0.0 1.0]\n",
      "Original range for T-8: [-1.0  1.0294117647058822], [-1.0 1.0294117647058822]\n",
      "Scaled range for T-8: [0.0  1.0], [0.0 1.0]\n",
      "Original range for P-11: [0.0  1.0], [0.0 1.0]\n",
      "Scaled range for P-11: [0.0  1.0], [0.0 1.0]\n",
      "Original range for D-15: [-1.0  1.1915779731605738], [-1.0 1.1915779731605738]\n",
      "Scaled range for D-15: [0.0  1.0], [0.0 1.0]\n",
      "Original range for D-16: [-1.0  1.008879901529805], [-1.0 1.008879901529805]\n",
      "Scaled range for D-16: [0.0  1.0], [0.0 1.0]\n",
      "Original range for M-7: [-1.0020241085789672  1.0], [-1.0020241085789672 1.0]\n",
      "Scaled range for M-7: [0.0  1.0], [0.0 1.0]\n",
      "Original range for F-8: [-1.0  1.1304347826086958], [-1.0 1.1304347826086958]\n",
      "Scaled range for F-8: [0.0  1.0], [0.0 1.0]\n"
     ]
    }
   ],
   "source": [
    "for file in msl_files:\n",
    "    # load\n",
    "    train_original = np.load(train_folder + f'{file}.npy')\n",
    "    test_original = np.load(test_folder + f'{file}.npy')\n",
    "    print(f'Original range for {file}: [{train_original.min()}  {train_original.max()}], [{train_original.min()} {train_original.max()}]')\n",
    "    # scale\n",
    "    train_scaled, test_scaled = scale_data(train_original, test_original)\n",
    "    print(f'Scaled range for {file}: [{train_scaled.min()}  {train_scaled.max()}], [{test_scaled.min()} {test_scaled.max()}]')\n",
    "    # build labels\n",
    "    labels = np.zeros_like(test_scaled)\n",
    "    indices = msl[msl['chan_id'] == file]['anomaly_sequences'].values[0]\n",
    "    indices = indices.replace(']', '').replace('[', '').split(', ')\n",
    "    indices = [int(i) for i in indices]\n",
    "    for i in range(0, len(indices), 2):\n",
    "        labels[indices[i]:indices[i+1], :] = 1\n",
    "    # save\n",
    "    dir = '../../TranAD/processed/MSL'\n",
    "    os.makedirs(dir, exist_ok=True)\n",
    "    np.save(f'{dir}/{file}_train.npy', train_scaled)\n",
    "    np.save(f'{dir}/{file}_test.npy', test_scaled)\n",
    "    np.save(f'{dir}/{file}_labels.npy', labels)    \n"
   ]
  },
  {
   "cell_type": "code",
   "execution_count": 45,
   "metadata": {},
   "outputs": [],
   "source": [
    "t_1_test = np.load(test_folder + 'T-1.npy')\n",
    "t_1_train = np.load(train_folder + 'T-1.npy')"
   ]
  },
  {
   "cell_type": "code",
   "execution_count": 46,
   "metadata": {},
   "outputs": [
    {
     "data": {
      "text/plain": [
       "(2875, 25)"
      ]
     },
     "execution_count": 46,
     "metadata": {},
     "output_type": "execute_result"
    }
   ],
   "source": [
    "t_1_train.shape"
   ]
  },
  {
   "cell_type": "markdown",
   "metadata": {},
   "source": [
    "min_original_test = t_1_test.min()\n",
    "max_original_test = t_1_test.max()\n",
    "min_original_train = t_1_train.min()\n",
    "max_original_train = t_1_train.max()"
   ]
  },
  {
   "cell_type": "code",
   "execution_count": 13,
   "metadata": {},
   "outputs": [
    {
     "name": "stdout",
     "output_type": "stream",
     "text": [
      "-1.0 1.0\n",
      "-1.0 1.0\n"
     ]
    }
   ],
   "source": [
    "print(f'{min_original_train} {max_original_train}')\n",
    "print(f'{min_original_test} {max_original_test}')"
   ]
  },
  {
   "cell_type": "code",
   "execution_count": 14,
   "metadata": {},
   "outputs": [
    {
     "name": "stdout",
     "output_type": "stream",
     "text": [
      "0.023095539152304296\n",
      "0.020554483585080625\n"
     ]
    }
   ],
   "source": [
    "print(t_1_train.mean())\n",
    "print(t_1_test.mean())"
   ]
  },
  {
   "cell_type": "code",
   "execution_count": 15,
   "metadata": {},
   "outputs": [],
   "source": [
    "t_1_train_scaled, t_1_test_scaled = scale_data(t_1_train, t_1_test)"
   ]
  },
  {
   "cell_type": "code",
   "execution_count": 18,
   "metadata": {},
   "outputs": [],
   "source": [
    "min_train_scaled = t_1_train_scaled.min()\n",
    "max_train_scaled = t_1_train.max()\n",
    "min_test_scaled = t_1_test_scaled.min()\n",
    "max_test_scaled = t_1_test.max()"
   ]
  },
  {
   "cell_type": "code",
   "execution_count": 19,
   "metadata": {},
   "outputs": [
    {
     "name": "stdout",
     "output_type": "stream",
     "text": [
      "0.0 1.0\n",
      "0.0 1.0\n"
     ]
    }
   ],
   "source": [
    "print(f'{min_train_scaled} {max_train_scaled}')\n",
    "print(f'{min_test_scaled} {max_test_scaled}')"
   ]
  },
  {
   "cell_type": "code",
   "execution_count": 20,
   "metadata": {},
   "outputs": [
    {
     "name": "stdout",
     "output_type": "stream",
     "text": [
      "0.0315616826196304\n",
      "0.030848537658773482\n"
     ]
    }
   ],
   "source": [
    "print(t_1_train_scaled.mean())\n",
    "print(t_1_test_scaled.mean())"
   ]
  },
  {
   "cell_type": "code",
   "execution_count": 21,
   "metadata": {},
   "outputs": [
    {
     "data": {
      "text/plain": [
       "(array([  191,   112,    88,    76,    64, 69065,    84,    76,   176,\n",
       "         1943]),\n",
       " array([-1. , -0.8, -0.6, -0.4, -0.2,  0. ,  0.2,  0.4,  0.6,  0.8,  1. ]))"
      ]
     },
     "execution_count": 21,
     "metadata": {},
     "output_type": "execute_result"
    }
   ],
   "source": [
    "np.histogram(t_1_train)"
   ]
  },
  {
   "cell_type": "code",
   "execution_count": 23,
   "metadata": {},
   "outputs": [
    {
     "data": {
      "text/plain": [
       "<AxesSubplot:ylabel='Count'>"
      ]
     },
     "execution_count": 23,
     "metadata": {},
     "output_type": "execute_result"
    },
    {
     "data": {
      "image/png": "[encoded data removed]",
      "text/plain": [
       "<Figure size 640x480 with 1 Axes>"
      ]
     },
     "metadata": {},
     "output_type": "display_data"
    }
   ],
   "source": [
    "import seaborn as sns\n",
    "sns.histplot(t_1_train)"
   ]
  },
  {
   "cell_type": "code",
   "execution_count": 24,
   "metadata": {},
   "outputs": [
    {
     "data": {
      "text/plain": [
       "<AxesSubplot:ylabel='Count'>"
      ]
     },
     "execution_count": 24,
     "metadata": {},
     "output_type": "execute_result"
    },
    {
     "data": {
      "image/png": "[encoded data removed]",
      "text/plain": [
       "<Figure size 640x480 with 1 Axes>"
      ]
     },
     "metadata": {},
     "output_type": "display_data"
    }
   ],
   "source": [
    "\n",
    "sns.histplot(t_1_train_scaled)"
   ]
  },
  {
   "cell_type": "code",
   "execution_count": 25,
   "metadata": {},
   "outputs": [
    {
     "data": {
      "text/plain": [
       "<AxesSubplot:ylabel='Count'>"
      ]
     },
     "execution_count": 25,
     "metadata": {},
     "output_type": "execute_result"
    },
    {
     "data": {
      "image/png": "[encoded data removed]",
      "text/plain": [
       "<Figure size 640x480 with 1 Axes>"
      ]
     },
     "metadata": {},
     "output_type": "display_data"
    }
   ],
   "source": [
    "sns.histplot(t_1_test)"
   ]
  },
  {
   "cell_type": "code",
   "execution_count": 26,
   "metadata": {},
   "outputs": [
    {
     "data": {
      "text/plain": [
       "<AxesSubplot:ylabel='Count'>"
      ]
     },
     "execution_count": 26,
     "metadata": {},
     "output_type": "execute_result"
    },
    {
     "data": {
      "image/png": "[encoded data removed]",
      "text/plain": [
       "<Figure size 640x480 with 1 Axes>"
      ]
     },
     "metadata": {},
     "output_type": "display_data"
    }
   ],
   "source": [
    "sns.histplot(t_1_test_scaled)"
   ]
  },
  {
   "cell_type": "code",
   "execution_count": 28,
   "metadata": {},
   "outputs": [],
   "source": [
    "train_scaled_2, test_scaled_1 = scale_data2(t_1_train, t_1_test)"
   ]
  },
  {
   "cell_type": "code",
   "execution_count": 29,
   "metadata": {},
   "outputs": [
    {
     "data": {
      "text/plain": [
       "<AxesSubplot:ylabel='Count'>"
      ]
     },
     "execution_count": 29,
     "metadata": {},
     "output_type": "execute_result"
    },
    {
     "data": {
      "image/png": "[encoded data removed]",
      "text/plain": [
       "<Figure size 640x480 with 1 Axes>"
      ]
     },
     "metadata": {},
     "output_type": "display_data"
    }
   ],
   "source": [
    "sns.histplot(test_scaled_1)"
   ]
  },
  {
   "cell_type": "code",
   "execution_count": 30,
   "metadata": {},
   "outputs": [
    {
     "data": {
      "text/plain": [
       "(2875, 25)"
      ]
     },
     "execution_count": 30,
     "metadata": {},
     "output_type": "execute_result"
    }
   ],
   "source": [
    "t_1_train.shape"
   ]
  },
  {
   "cell_type": "code",
   "execution_count": 31,
   "metadata": {},
   "outputs": [
    {
     "data": {
      "text/plain": [
       "-1.0"
      ]
     },
     "execution_count": 31,
     "metadata": {},
     "output_type": "execute_result"
    }
   ],
   "source": [
    "t_1_train[:, 0].min()"
   ]
  },
  {
   "cell_type": "code",
   "execution_count": 37,
   "metadata": {},
   "outputs": [
    {
     "name": "stdout",
     "output_type": "stream",
     "text": [
      "0.48529729631535756 0.7426486481576787\n",
      "-1.0 1.0\n",
      "0.0 1.0\n",
      "-------------\n",
      "0.0019739897816999537 0.0019739897816999537\n",
      "0.0 1.0\n",
      "0.0 1.0\n",
      "-------------\n",
      "0.00034835113794705065 0.00034835113794705065\n",
      "0.0 1.0\n",
      "0.0 1.0\n",
      "-------------\n",
      "0.0015095215977705527 0.0015095215977705527\n",
      "0.0 1.0\n",
      "0.0 1.0\n",
      "-------------\n",
      "0.0 0.0\n",
      "0.0 0.0\n",
      "0.0 0.0\n",
      "-------------\n",
      "0.008941012540640966 0.008941012540640966\n",
      "0.0 1.0\n",
      "0.0 1.0\n",
      "-------------\n",
      "0.006967022758941012 0.006967022758941012\n",
      "0.0 1.0\n",
      "0.0 1.0\n",
      "-------------\n",
      "0.00023223409196470042 0.00023223409196470042\n",
      "0.0 1.0\n",
      "0.0 1.0\n",
      "-------------\n",
      "0.0 0.0\n",
      "0.0 0.0\n",
      "0.0 0.0\n",
      "-------------\n",
      "0.0 0.0\n",
      "0.0 0.0\n",
      "0.0 0.0\n",
      "-------------\n",
      "0.0 0.0\n",
      "0.0 0.0\n",
      "0.0 0.0\n",
      "-------------\n",
      "0.00023223409196470042 0.00023223409196470042\n",
      "0.0 1.0\n",
      "0.0 1.0\n",
      "-------------\n",
      "0.0 0.0\n",
      "0.0 0.0\n",
      "0.0 0.0\n",
      "-------------\n",
      "0.00011611704598235021 0.00011611704598235021\n",
      "0.0 1.0\n",
      "0.0 1.0\n",
      "-------------\n",
      "0.00011611704598235021 0.00011611704598235021\n",
      "0.0 1.0\n",
      "0.0 1.0\n",
      "-------------\n",
      "0.0 0.0\n",
      "0.0 0.0\n",
      "0.0 0.0\n",
      "-------------\n",
      "0.0 0.0\n",
      "0.0 0.0\n",
      "0.0 0.0\n",
      "-------------\n",
      "0.0013934045517882026 0.0013934045517882026\n",
      "0.0 1.0\n",
      "0.0 1.0\n",
      "-------------\n",
      "0.0013934045517882026 0.0013934045517882026\n",
      "0.0 1.0\n",
      "0.0 1.0\n",
      "-------------\n",
      "0.0006967022758941013 0.0006967022758941013\n",
      "0.0 1.0\n",
      "0.0 1.0\n",
      "-------------\n",
      "0.0 0.0\n",
      "0.0 0.0\n",
      "0.0 0.0\n",
      "-------------\n",
      "0.0024384579656293545 0.0024384579656293545\n",
      "0.0 1.0\n",
      "0.0 1.0\n",
      "-------------\n",
      "0.002206223873664654 0.002206223873664654\n",
      "0.0 1.0\n",
      "0.0 1.0\n",
      "-------------\n",
      "0.0 0.0\n",
      "0.0 0.0\n",
      "0.0 0.0\n",
      "-------------\n",
      "0.0 0.0\n",
      "0.0 0.0\n",
      "0.0 0.0\n",
      "-------------\n"
     ]
    }
   ],
   "source": [
    "for feature in range(0, 25):\n",
    "    print(f'{t_1_test[:, feature].mean()} {t_1_test_scaled[:, feature].mean()}')\n",
    "    print(f'{t_1_test[:, feature].min()} {t_1_test[:, feature].max()}')\n",
    "    print(f'{t_1_test_scaled[:, feature].min()} {t_1_test_scaled[:, feature].max()}')\n",
    "    print('-------------')\n",
    "    "
   ]
  }
 ],
 "metadata": {
  "kernelspec": {
   "display_name": "py3.9test",
   "language": "python",
   "name": "python3"
  },
  "language_info": {
   "codemirror_mode": {
    "name": "ipython",
    "version": 3
   },
   "file_extension": ".py",
   "mimetype": "text/x-python",
   "name": "python",
   "nbconvert_exporter": "python",
   "pygments_lexer": "ipython3",
   "version": "3.9.13"
  },
  "orig_nbformat": 4,
  "vscode": {
   "interpreter": {
    "hash": "27efe6010b91a164a18a011cd71b7afbe2f076e5b83b7f8099f414d97e11e710"
   }
  }
 },
 "nbformat": 4,
 "nbformat_minor": 2
}
