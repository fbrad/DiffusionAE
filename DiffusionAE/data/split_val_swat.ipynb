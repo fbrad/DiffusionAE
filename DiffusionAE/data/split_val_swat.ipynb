{
 "cells": [
  {
   "cell_type": "code",
   "execution_count": 78,
   "metadata": {},
   "outputs": [],
   "source": [
    "import pandas as pd\n",
    "import numpy as np\n",
    "import matplotlib.pyplot as plt"
   ]
  },
  {
   "cell_type": "code",
   "execution_count": null,
   "metadata": {},
   "outputs": [],
   "source": [
    "#normal0 = pd.read_excel('SWaT_Dataset_Normal_v0.xlsx')\n",
    "normal1 = pd.read_excel('SWaT_Dataset_Normal_v1.xlsx')\n",
    "attack = pd.read_excel('SWaT_Dataset_Attack_v0.xlsx')"
   ]
  },
  {
   "cell_type": "code",
   "execution_count": 3,
   "metadata": {},
   "outputs": [],
   "source": [
    "import os\n",
    "#if not os.path.isfile(directory + 'train.csv'):\n",
    "#normal0.to_csv('train.csv', index=None, header=None)\n",
    "normal1.to_csv('train1.csv', index=None, header=None)\n",
    "attack.to_csv('test.csv', index=None, header=None)"
   ]
  },
  {
   "cell_type": "code",
   "execution_count": 79,
   "metadata": {},
   "outputs": [],
   "source": [
    "test = pd.read_csv('test.csv')\n",
    "train1 = pd.read_csv('train1.csv')\n",
    "#train = pd.read_csv('train.csv')"
   ]
  },
  {
   "cell_type": "code",
   "execution_count": 51,
   "metadata": {},
   "outputs": [
    {
     "data": {
      "text/plain": [
       "(496800, 53)"
      ]
     },
     "execution_count": 51,
     "metadata": {},
     "output_type": "execute_result"
    }
   ],
   "source": [
    "train.shape"
   ]
  },
  {
   "cell_type": "code",
   "execution_count": 80,
   "metadata": {},
   "outputs": [
    {
     "data": {
      "text/plain": [
       "(495000, 53)"
      ]
     },
     "execution_count": 80,
     "metadata": {},
     "output_type": "execute_result"
    }
   ],
   "source": [
    "train1.shape"
   ]
  },
  {
   "cell_type": "code",
   "execution_count": 81,
   "metadata": {},
   "outputs": [
    {
     "data": {
      "text/plain": [
       "(449919, 53)"
      ]
     },
     "execution_count": 81,
     "metadata": {},
     "output_type": "execute_result"
    }
   ],
   "source": [
    "test.shape"
   ]
  },
  {
   "cell_type": "code",
   "execution_count": 82,
   "metadata": {},
   "outputs": [],
   "source": [
    "train1['Normal/Attack'] = [0 if x == 'Normal' else 1 for x in train1['Normal/Attack']]\n",
    "test['Normal/Attack'] = [0 if x == 'Normal' else 1 for x in test['Normal/Attack']]"
   ]
  },
  {
   "cell_type": "code",
   "execution_count": 83,
   "metadata": {},
   "outputs": [
    {
     "data": {
      "text/plain": [
       "0    395298\n",
       "1     54621\n",
       "Name: Normal/Attack, dtype: int64"
      ]
     },
     "execution_count": 83,
     "metadata": {},
     "output_type": "execute_result"
    }
   ],
   "source": [
    "test['Normal/Attack'].value_counts()"
   ]
  },
  {
   "cell_type": "code",
   "execution_count": 84,
   "metadata": {},
   "outputs": [
    {
     "data": {
      "text/plain": [
       "0    495000\n",
       "Name: Normal/Attack, dtype: int64"
      ]
     },
     "execution_count": 84,
     "metadata": {},
     "output_type": "execute_result"
    }
   ],
   "source": [
    "train1['Normal/Attack'].value_counts()"
   ]
  },
  {
   "cell_type": "code",
   "execution_count": 85,
   "metadata": {},
   "outputs": [],
   "source": [
    "# trim column names\n",
    "train1 = train1.rename(columns=lambda x: x.strip())\n",
    "test = test.rename(columns=lambda x: x.strip())"
   ]
  },
  {
   "cell_type": "code",
   "execution_count": 86,
   "metadata": {},
   "outputs": [
    {
     "data": {
      "text/plain": [
       "0         0\n",
       "1         0\n",
       "2         0\n",
       "3         0\n",
       "4         0\n",
       "         ..\n",
       "449914    0\n",
       "449915    0\n",
       "449916    0\n",
       "449917    0\n",
       "449918    0\n",
       "Name: Normal/Attack, Length: 449919, dtype: int64"
      ]
     },
     "execution_count": 86,
     "metadata": {},
     "output_type": "execute_result"
    }
   ],
   "source": [
    "test_labels = test['Normal/Attack']\n",
    "test_labels"
   ]
  },
  {
   "cell_type": "code",
   "execution_count": 87,
   "metadata": {},
   "outputs": [],
   "source": [
    "def search_ratio(test_labels, val_len):\n",
    "    test = test_labels[val_len:]\n",
    "    val = test_labels[:val_len]\n",
    "    test_ratio = (np.sum(test) /test.shape[0]) * 100\n",
    "    val_ratio = (np.sum(val) / val.shape[0]) * 100\n",
    "    print(f'val ratio: {val_ratio}')\n",
    "    print(f'test ratio: {test_ratio}')\n",
    "    print('----')\n",
    "    return val_ratio, test_ratio"
   ]
  },
  {
   "cell_type": "code",
   "execution_count": 88,
   "metadata": {},
   "outputs": [
    {
     "name": "stdout",
     "output_type": "stream",
     "text": [
      "val ratio: 5.764422168631852\n",
      "test ratio: 13.734108285917495\n",
      "----\n",
      "val ratio: 9.926429730390522\n",
      "test ratio: 12.386152599968389\n",
      "----\n",
      "val ratio: 6.432302278199667\n",
      "test ratio: 14.586402662060557\n",
      "----\n"
     ]
    }
   ],
   "source": [
    "vr, tr = search_ratio(test_labels=test_labels.to_numpy(), val_len=int(0.2 * test.shape[0]))\n",
    "vr, tr = search_ratio(test_labels=test_labels.to_numpy(), val_len=int(0.1 * test.shape[0]))\n",
    "vr, tr = search_ratio(test_labels=test_labels.to_numpy(), val_len=int(0.3 * test.shape[0]))"
   ]
  },
  {
   "cell_type": "code",
   "execution_count": 89,
   "metadata": {},
   "outputs": [
    {
     "data": {
      "text/plain": [
       "44991"
      ]
     },
     "execution_count": 89,
     "metadata": {},
     "output_type": "execute_result"
    }
   ],
   "source": [
    "val_len = int(0.1 * test.shape[0])\n",
    "val_len"
   ]
  },
  {
   "cell_type": "code",
   "execution_count": 90,
   "metadata": {},
   "outputs": [
    {
     "data": {
      "text/plain": [
       "(44991, 53)"
      ]
     },
     "execution_count": 90,
     "metadata": {},
     "output_type": "execute_result"
    }
   ],
   "source": [
    "validation = test[:val_len]\n",
    "validation.shape"
   ]
  },
  {
   "cell_type": "code",
   "execution_count": 91,
   "metadata": {},
   "outputs": [
    {
     "data": {
      "text/plain": [
       "0    40525\n",
       "1     4466\n",
       "Name: Normal/Attack, dtype: int64"
      ]
     },
     "execution_count": 91,
     "metadata": {},
     "output_type": "execute_result"
    }
   ],
   "source": [
    "validation['Normal/Attack'].value_counts()"
   ]
  },
  {
   "cell_type": "code",
   "execution_count": 92,
   "metadata": {},
   "outputs": [
    {
     "data": {
      "text/plain": [
       "0        0\n",
       "1        0\n",
       "2        0\n",
       "3        0\n",
       "4        0\n",
       "        ..\n",
       "44986    0\n",
       "44987    0\n",
       "44988    0\n",
       "44989    0\n",
       "44990    0\n",
       "Name: Normal/Attack, Length: 44991, dtype: int64"
      ]
     },
     "execution_count": 92,
     "metadata": {},
     "output_type": "execute_result"
    }
   ],
   "source": [
    "validation_labels = validation['Normal/Attack']\n",
    "validation_labels"
   ]
  },
  {
   "cell_type": "code",
   "execution_count": 93,
   "metadata": {},
   "outputs": [
    {
     "data": {
      "text/plain": [
       "(404928, 53)"
      ]
     },
     "execution_count": 93,
     "metadata": {},
     "output_type": "execute_result"
    }
   ],
   "source": [
    "test_clipped = test[val_len:]\n",
    "test_clipped.shape"
   ]
  },
  {
   "cell_type": "code",
   "execution_count": 94,
   "metadata": {},
   "outputs": [
    {
     "data": {
      "text/plain": [
       "(404928,)"
      ]
     },
     "execution_count": 94,
     "metadata": {},
     "output_type": "execute_result"
    }
   ],
   "source": [
    "test_labels_clipped = test_labels[val_len:]\n",
    "test_labels_clipped.shape"
   ]
  },
  {
   "cell_type": "code",
   "execution_count": 95,
   "metadata": {},
   "outputs": [
    {
     "data": {
      "text/plain": [
       "<matplotlib.collections.PolyCollection at 0x7fd443f65cd0>"
      ]
     },
     "execution_count": 95,
     "metadata": {},
     "output_type": "execute_result"
    },
    {
     "data": {
      "image/png": "[encoded data removed]",
      "text/plain": [
       "<Figure size 3000x200 with 1 Axes>"
      ]
     },
     "metadata": {},
     "output_type": "display_data"
    }
   ],
   "source": [
    "plt.rcParams['figure.figsize'] = 30, 2\n",
    "plt.plot(test_clipped.to_numpy()[:, 4])\n",
    "plt.fill_between(np.arange(test_labels_clipped.to_numpy().shape[0]), test_labels_clipped.to_numpy(), color='red', alpha=0.7, linestyle='dashed', linewidth=0.3)"
   ]
  },
  {
   "cell_type": "code",
   "execution_count": 96,
   "metadata": {},
   "outputs": [
    {
     "data": {
      "text/plain": [
       "<matplotlib.collections.PolyCollection at 0x7fd43d9aad90>"
      ]
     },
     "execution_count": 96,
     "metadata": {},
     "output_type": "execute_result"
    },
    {
     "data": {
      "image/png": "[encoded data removed]",
      "text/plain": [
       "<Figure size 3000x200 with 1 Axes>"
      ]
     },
     "metadata": {},
     "output_type": "display_data"
    }
   ],
   "source": [
    "plt.plot(validation.to_numpy()[:, 4])\n",
    "plt.fill_between(np.arange(validation_labels.to_numpy().shape[0]), validation_labels.to_numpy(), color='red', alpha=0.7, linestyle='dashed', linewidth=0.3)"
   ]
  },
  {
   "cell_type": "code",
   "execution_count": 37,
   "metadata": {},
   "outputs": [
    {
     "data": {
      "text/plain": [
       "[<matplotlib.lines.Line2D at 0x7f45e85b52e0>]"
      ]
     },
     "execution_count": 37,
     "metadata": {},
     "output_type": "execute_result"
    },
    {
     "data": {
      "image/png": "[encoded data removed]",
      "text/plain": [
       "<Figure size 3000x200 with 1 Axes>"
      ]
     },
     "metadata": {},
     "output_type": "display_data"
    }
   ],
   "source": [
    "plt.plot(train_values[:, 4])"
   ]
  },
  {
   "cell_type": "code",
   "execution_count": 97,
   "metadata": {},
   "outputs": [],
   "source": [
    "# we don't need timestamps or training labels\n",
    "train_dropped = train1.drop([\"Timestamp\" , \"Normal/Attack\" ] , axis = 1)\n",
    "test_dropped = test_clipped.drop([\"Timestamp\" , \"Normal/Attack\" ] , axis = 1)\n",
    "validation_dropped = validation.drop([\"Timestamp\" , \"Normal/Attack\" ] , axis = 1)"
   ]
  },
  {
   "cell_type": "code",
   "execution_count": 98,
   "metadata": {},
   "outputs": [
    {
     "data": {
      "text/html": [
       "<div>\n",
       "<style scoped>\n",
       "    .dataframe tbody tr th:only-of-type {\n",
       "        vertical-align: middle;\n",
       "    }\n",
       "\n",
       "    .dataframe tbody tr th {\n",
       "        vertical-align: top;\n",
       "    }\n",
       "\n",
       "    .dataframe thead th {\n",
       "        text-align: right;\n",
       "    }\n",
       "</style>\n",
       "<table border=\"1\" class=\"dataframe\">\n",
       "  <thead>\n",
       "    <tr style=\"text-align: right;\">\n",
       "      <th></th>\n",
       "      <th>FIT101</th>\n",
       "      <th>LIT101</th>\n",
       "      <th>MV101</th>\n",
       "      <th>P101</th>\n",
       "      <th>P102</th>\n",
       "      <th>AIT201</th>\n",
       "      <th>AIT202</th>\n",
       "      <th>AIT203</th>\n",
       "      <th>FIT201</th>\n",
       "      <th>MV201</th>\n",
       "      <th>...</th>\n",
       "      <th>FIT504</th>\n",
       "      <th>P501</th>\n",
       "      <th>P502</th>\n",
       "      <th>PIT501</th>\n",
       "      <th>PIT502</th>\n",
       "      <th>PIT503</th>\n",
       "      <th>FIT601</th>\n",
       "      <th>P601</th>\n",
       "      <th>P602</th>\n",
       "      <th>P603</th>\n",
       "    </tr>\n",
       "  </thead>\n",
       "  <tbody>\n",
       "    <tr>\n",
       "      <th>0</th>\n",
       "      <td>0.0</td>\n",
       "      <td>124.3135</td>\n",
       "      <td>1</td>\n",
       "      <td>1</td>\n",
       "      <td>1</td>\n",
       "      <td>251.9226</td>\n",
       "      <td>8.313446</td>\n",
       "      <td>312.7916</td>\n",
       "      <td>0.0</td>\n",
       "      <td>1</td>\n",
       "      <td>...</td>\n",
       "      <td>0.0</td>\n",
       "      <td>1</td>\n",
       "      <td>1</td>\n",
       "      <td>9.100231</td>\n",
       "      <td>0.0</td>\n",
       "      <td>3.3485</td>\n",
       "      <td>0.000256</td>\n",
       "      <td>1</td>\n",
       "      <td>1</td>\n",
       "      <td>1</td>\n",
       "    </tr>\n",
       "    <tr>\n",
       "      <th>1</th>\n",
       "      <td>0.0</td>\n",
       "      <td>124.3920</td>\n",
       "      <td>1</td>\n",
       "      <td>1</td>\n",
       "      <td>1</td>\n",
       "      <td>251.9226</td>\n",
       "      <td>8.313446</td>\n",
       "      <td>312.7916</td>\n",
       "      <td>0.0</td>\n",
       "      <td>1</td>\n",
       "      <td>...</td>\n",
       "      <td>0.0</td>\n",
       "      <td>1</td>\n",
       "      <td>1</td>\n",
       "      <td>9.100231</td>\n",
       "      <td>0.0</td>\n",
       "      <td>3.3485</td>\n",
       "      <td>0.000256</td>\n",
       "      <td>1</td>\n",
       "      <td>1</td>\n",
       "      <td>1</td>\n",
       "    </tr>\n",
       "    <tr>\n",
       "      <th>2</th>\n",
       "      <td>0.0</td>\n",
       "      <td>124.4705</td>\n",
       "      <td>1</td>\n",
       "      <td>1</td>\n",
       "      <td>1</td>\n",
       "      <td>251.9226</td>\n",
       "      <td>8.313446</td>\n",
       "      <td>312.7916</td>\n",
       "      <td>0.0</td>\n",
       "      <td>1</td>\n",
       "      <td>...</td>\n",
       "      <td>0.0</td>\n",
       "      <td>1</td>\n",
       "      <td>1</td>\n",
       "      <td>9.100231</td>\n",
       "      <td>0.0</td>\n",
       "      <td>3.3485</td>\n",
       "      <td>0.000256</td>\n",
       "      <td>1</td>\n",
       "      <td>1</td>\n",
       "      <td>1</td>\n",
       "    </tr>\n",
       "    <tr>\n",
       "      <th>3</th>\n",
       "      <td>0.0</td>\n",
       "      <td>124.6668</td>\n",
       "      <td>1</td>\n",
       "      <td>1</td>\n",
       "      <td>1</td>\n",
       "      <td>251.9226</td>\n",
       "      <td>8.313446</td>\n",
       "      <td>312.7916</td>\n",
       "      <td>0.0</td>\n",
       "      <td>1</td>\n",
       "      <td>...</td>\n",
       "      <td>0.0</td>\n",
       "      <td>1</td>\n",
       "      <td>1</td>\n",
       "      <td>9.100231</td>\n",
       "      <td>0.0</td>\n",
       "      <td>3.3485</td>\n",
       "      <td>0.000256</td>\n",
       "      <td>1</td>\n",
       "      <td>1</td>\n",
       "      <td>1</td>\n",
       "    </tr>\n",
       "    <tr>\n",
       "      <th>4</th>\n",
       "      <td>0.0</td>\n",
       "      <td>124.5098</td>\n",
       "      <td>1</td>\n",
       "      <td>1</td>\n",
       "      <td>1</td>\n",
       "      <td>251.9226</td>\n",
       "      <td>8.313446</td>\n",
       "      <td>312.7916</td>\n",
       "      <td>0.0</td>\n",
       "      <td>1</td>\n",
       "      <td>...</td>\n",
       "      <td>0.0</td>\n",
       "      <td>1</td>\n",
       "      <td>1</td>\n",
       "      <td>9.100231</td>\n",
       "      <td>0.0</td>\n",
       "      <td>3.3485</td>\n",
       "      <td>0.000256</td>\n",
       "      <td>1</td>\n",
       "      <td>1</td>\n",
       "      <td>1</td>\n",
       "    </tr>\n",
       "  </tbody>\n",
       "</table>\n",
       "<p>5 rows × 51 columns</p>\n",
       "</div>"
      ],
      "text/plain": [
       "   FIT101    LIT101  MV101  P101  P102    AIT201    AIT202    AIT203  FIT201  \\\n",
       "0     0.0  124.3135      1     1     1  251.9226  8.313446  312.7916     0.0   \n",
       "1     0.0  124.3920      1     1     1  251.9226  8.313446  312.7916     0.0   \n",
       "2     0.0  124.4705      1     1     1  251.9226  8.313446  312.7916     0.0   \n",
       "3     0.0  124.6668      1     1     1  251.9226  8.313446  312.7916     0.0   \n",
       "4     0.0  124.5098      1     1     1  251.9226  8.313446  312.7916     0.0   \n",
       "\n",
       "   MV201  ...  FIT504  P501  P502    PIT501  PIT502  PIT503    FIT601  P601  \\\n",
       "0      1  ...     0.0     1     1  9.100231     0.0  3.3485  0.000256     1   \n",
       "1      1  ...     0.0     1     1  9.100231     0.0  3.3485  0.000256     1   \n",
       "2      1  ...     0.0     1     1  9.100231     0.0  3.3485  0.000256     1   \n",
       "3      1  ...     0.0     1     1  9.100231     0.0  3.3485  0.000256     1   \n",
       "4      1  ...     0.0     1     1  9.100231     0.0  3.3485  0.000256     1   \n",
       "\n",
       "   P602  P603  \n",
       "0     1     1  \n",
       "1     1     1  \n",
       "2     1     1  \n",
       "3     1     1  \n",
       "4     1     1  \n",
       "\n",
       "[5 rows x 51 columns]"
      ]
     },
     "execution_count": 98,
     "metadata": {},
     "output_type": "execute_result"
    }
   ],
   "source": [
    "train_dropped.head()"
   ]
  },
  {
   "cell_type": "code",
   "execution_count": 99,
   "metadata": {},
   "outputs": [
    {
     "data": {
      "text/html": [
       "<div>\n",
       "<style scoped>\n",
       "    .dataframe tbody tr th:only-of-type {\n",
       "        vertical-align: middle;\n",
       "    }\n",
       "\n",
       "    .dataframe tbody tr th {\n",
       "        vertical-align: top;\n",
       "    }\n",
       "\n",
       "    .dataframe thead th {\n",
       "        text-align: right;\n",
       "    }\n",
       "</style>\n",
       "<table border=\"1\" class=\"dataframe\">\n",
       "  <thead>\n",
       "    <tr style=\"text-align: right;\">\n",
       "      <th></th>\n",
       "      <th>FIT101</th>\n",
       "      <th>LIT101</th>\n",
       "      <th>MV101</th>\n",
       "      <th>P101</th>\n",
       "      <th>P102</th>\n",
       "      <th>AIT201</th>\n",
       "      <th>AIT202</th>\n",
       "      <th>AIT203</th>\n",
       "      <th>FIT201</th>\n",
       "      <th>MV201</th>\n",
       "      <th>...</th>\n",
       "      <th>FIT504</th>\n",
       "      <th>P501</th>\n",
       "      <th>P502</th>\n",
       "      <th>PIT501</th>\n",
       "      <th>PIT502</th>\n",
       "      <th>PIT503</th>\n",
       "      <th>FIT601</th>\n",
       "      <th>P601</th>\n",
       "      <th>P602</th>\n",
       "      <th>P603</th>\n",
       "    </tr>\n",
       "  </thead>\n",
       "  <tbody>\n",
       "    <tr>\n",
       "      <th>44991</th>\n",
       "      <td>2.665983</td>\n",
       "      <td>533.0524</td>\n",
       "      <td>2</td>\n",
       "      <td>1</td>\n",
       "      <td>1</td>\n",
       "      <td>258.0108</td>\n",
       "      <td>8.381697</td>\n",
       "      <td>330.7357</td>\n",
       "      <td>2.441162</td>\n",
       "      <td>2</td>\n",
       "      <td>...</td>\n",
       "      <td>0.304583</td>\n",
       "      <td>2</td>\n",
       "      <td>1</td>\n",
       "      <td>247.6288</td>\n",
       "      <td>1.025214</td>\n",
       "      <td>186.6188</td>\n",
       "      <td>0.000064</td>\n",
       "      <td>1</td>\n",
       "      <td>1</td>\n",
       "      <td>1</td>\n",
       "    </tr>\n",
       "    <tr>\n",
       "      <th>44992</th>\n",
       "      <td>2.644525</td>\n",
       "      <td>532.3066</td>\n",
       "      <td>2</td>\n",
       "      <td>1</td>\n",
       "      <td>1</td>\n",
       "      <td>258.0108</td>\n",
       "      <td>8.381697</td>\n",
       "      <td>330.7357</td>\n",
       "      <td>2.441162</td>\n",
       "      <td>2</td>\n",
       "      <td>...</td>\n",
       "      <td>0.304583</td>\n",
       "      <td>2</td>\n",
       "      <td>1</td>\n",
       "      <td>247.5487</td>\n",
       "      <td>1.025214</td>\n",
       "      <td>186.6188</td>\n",
       "      <td>0.000064</td>\n",
       "      <td>1</td>\n",
       "      <td>1</td>\n",
       "      <td>1</td>\n",
       "    </tr>\n",
       "    <tr>\n",
       "      <th>44993</th>\n",
       "      <td>2.621785</td>\n",
       "      <td>532.1497</td>\n",
       "      <td>2</td>\n",
       "      <td>1</td>\n",
       "      <td>1</td>\n",
       "      <td>258.0108</td>\n",
       "      <td>8.381697</td>\n",
       "      <td>330.7357</td>\n",
       "      <td>2.436036</td>\n",
       "      <td>0</td>\n",
       "      <td>...</td>\n",
       "      <td>0.304583</td>\n",
       "      <td>2</td>\n",
       "      <td>1</td>\n",
       "      <td>247.5487</td>\n",
       "      <td>1.025214</td>\n",
       "      <td>186.5387</td>\n",
       "      <td>0.000064</td>\n",
       "      <td>1</td>\n",
       "      <td>1</td>\n",
       "      <td>1</td>\n",
       "    </tr>\n",
       "    <tr>\n",
       "      <th>44994</th>\n",
       "      <td>2.613778</td>\n",
       "      <td>531.5216</td>\n",
       "      <td>2</td>\n",
       "      <td>1</td>\n",
       "      <td>1</td>\n",
       "      <td>258.0108</td>\n",
       "      <td>8.381697</td>\n",
       "      <td>330.7357</td>\n",
       "      <td>2.338641</td>\n",
       "      <td>0</td>\n",
       "      <td>...</td>\n",
       "      <td>0.304583</td>\n",
       "      <td>2</td>\n",
       "      <td>1</td>\n",
       "      <td>247.5487</td>\n",
       "      <td>1.025214</td>\n",
       "      <td>186.5227</td>\n",
       "      <td>0.000064</td>\n",
       "      <td>1</td>\n",
       "      <td>1</td>\n",
       "      <td>1</td>\n",
       "    </tr>\n",
       "    <tr>\n",
       "      <th>44995</th>\n",
       "      <td>2.613778</td>\n",
       "      <td>531.4038</td>\n",
       "      <td>2</td>\n",
       "      <td>1</td>\n",
       "      <td>1</td>\n",
       "      <td>258.0108</td>\n",
       "      <td>8.381697</td>\n",
       "      <td>330.7357</td>\n",
       "      <td>2.221510</td>\n",
       "      <td>0</td>\n",
       "      <td>...</td>\n",
       "      <td>0.304583</td>\n",
       "      <td>2</td>\n",
       "      <td>1</td>\n",
       "      <td>247.5487</td>\n",
       "      <td>1.025214</td>\n",
       "      <td>186.5227</td>\n",
       "      <td>0.000064</td>\n",
       "      <td>1</td>\n",
       "      <td>1</td>\n",
       "      <td>1</td>\n",
       "    </tr>\n",
       "  </tbody>\n",
       "</table>\n",
       "<p>5 rows × 51 columns</p>\n",
       "</div>"
      ],
      "text/plain": [
       "         FIT101    LIT101  MV101  P101  P102    AIT201    AIT202    AIT203  \\\n",
       "44991  2.665983  533.0524      2     1     1  258.0108  8.381697  330.7357   \n",
       "44992  2.644525  532.3066      2     1     1  258.0108  8.381697  330.7357   \n",
       "44993  2.621785  532.1497      2     1     1  258.0108  8.381697  330.7357   \n",
       "44994  2.613778  531.5216      2     1     1  258.0108  8.381697  330.7357   \n",
       "44995  2.613778  531.4038      2     1     1  258.0108  8.381697  330.7357   \n",
       "\n",
       "         FIT201  MV201  ...    FIT504  P501  P502    PIT501    PIT502  \\\n",
       "44991  2.441162      2  ...  0.304583     2     1  247.6288  1.025214   \n",
       "44992  2.441162      2  ...  0.304583     2     1  247.5487  1.025214   \n",
       "44993  2.436036      0  ...  0.304583     2     1  247.5487  1.025214   \n",
       "44994  2.338641      0  ...  0.304583     2     1  247.5487  1.025214   \n",
       "44995  2.221510      0  ...  0.304583     2     1  247.5487  1.025214   \n",
       "\n",
       "         PIT503    FIT601  P601  P602  P603  \n",
       "44991  186.6188  0.000064     1     1     1  \n",
       "44992  186.6188  0.000064     1     1     1  \n",
       "44993  186.5387  0.000064     1     1     1  \n",
       "44994  186.5227  0.000064     1     1     1  \n",
       "44995  186.5227  0.000064     1     1     1  \n",
       "\n",
       "[5 rows x 51 columns]"
      ]
     },
     "execution_count": 99,
     "metadata": {},
     "output_type": "execute_result"
    }
   ],
   "source": [
    "test_dropped.head()"
   ]
  },
  {
   "cell_type": "code",
   "execution_count": 100,
   "metadata": {},
   "outputs": [
    {
     "data": {
      "text/html": [
       "<div>\n",
       "<style scoped>\n",
       "    .dataframe tbody tr th:only-of-type {\n",
       "        vertical-align: middle;\n",
       "    }\n",
       "\n",
       "    .dataframe tbody tr th {\n",
       "        vertical-align: top;\n",
       "    }\n",
       "\n",
       "    .dataframe thead th {\n",
       "        text-align: right;\n",
       "    }\n",
       "</style>\n",
       "<table border=\"1\" class=\"dataframe\">\n",
       "  <thead>\n",
       "    <tr style=\"text-align: right;\">\n",
       "      <th></th>\n",
       "      <th>FIT101</th>\n",
       "      <th>LIT101</th>\n",
       "      <th>MV101</th>\n",
       "      <th>P101</th>\n",
       "      <th>P102</th>\n",
       "      <th>AIT201</th>\n",
       "      <th>AIT202</th>\n",
       "      <th>AIT203</th>\n",
       "      <th>FIT201</th>\n",
       "      <th>MV201</th>\n",
       "      <th>...</th>\n",
       "      <th>FIT504</th>\n",
       "      <th>P501</th>\n",
       "      <th>P502</th>\n",
       "      <th>PIT501</th>\n",
       "      <th>PIT502</th>\n",
       "      <th>PIT503</th>\n",
       "      <th>FIT601</th>\n",
       "      <th>P601</th>\n",
       "      <th>P602</th>\n",
       "      <th>P603</th>\n",
       "    </tr>\n",
       "  </thead>\n",
       "  <tbody>\n",
       "    <tr>\n",
       "      <th>0</th>\n",
       "      <td>2.427057</td>\n",
       "      <td>522.8467</td>\n",
       "      <td>2</td>\n",
       "      <td>2</td>\n",
       "      <td>1</td>\n",
       "      <td>262.0161</td>\n",
       "      <td>8.396437</td>\n",
       "      <td>328.6337</td>\n",
       "      <td>2.445391</td>\n",
       "      <td>2</td>\n",
       "      <td>...</td>\n",
       "      <td>0.307786</td>\n",
       "      <td>2</td>\n",
       "      <td>1</td>\n",
       "      <td>250.8652</td>\n",
       "      <td>1.649953</td>\n",
       "      <td>189.5988</td>\n",
       "      <td>0.000128</td>\n",
       "      <td>1</td>\n",
       "      <td>1</td>\n",
       "      <td>1</td>\n",
       "    </tr>\n",
       "    <tr>\n",
       "      <th>1</th>\n",
       "      <td>2.446274</td>\n",
       "      <td>522.8860</td>\n",
       "      <td>2</td>\n",
       "      <td>2</td>\n",
       "      <td>1</td>\n",
       "      <td>262.0161</td>\n",
       "      <td>8.396437</td>\n",
       "      <td>328.6337</td>\n",
       "      <td>2.445391</td>\n",
       "      <td>2</td>\n",
       "      <td>...</td>\n",
       "      <td>0.307786</td>\n",
       "      <td>2</td>\n",
       "      <td>1</td>\n",
       "      <td>250.8652</td>\n",
       "      <td>1.649953</td>\n",
       "      <td>189.6789</td>\n",
       "      <td>0.000128</td>\n",
       "      <td>1</td>\n",
       "      <td>1</td>\n",
       "      <td>1</td>\n",
       "    </tr>\n",
       "    <tr>\n",
       "      <th>2</th>\n",
       "      <td>2.489191</td>\n",
       "      <td>522.8467</td>\n",
       "      <td>2</td>\n",
       "      <td>2</td>\n",
       "      <td>1</td>\n",
       "      <td>262.0161</td>\n",
       "      <td>8.394514</td>\n",
       "      <td>328.6337</td>\n",
       "      <td>2.442316</td>\n",
       "      <td>2</td>\n",
       "      <td>...</td>\n",
       "      <td>0.308619</td>\n",
       "      <td>2</td>\n",
       "      <td>1</td>\n",
       "      <td>250.8812</td>\n",
       "      <td>1.649953</td>\n",
       "      <td>189.6789</td>\n",
       "      <td>0.000128</td>\n",
       "      <td>1</td>\n",
       "      <td>1</td>\n",
       "      <td>1</td>\n",
       "    </tr>\n",
       "    <tr>\n",
       "      <th>3</th>\n",
       "      <td>2.534350</td>\n",
       "      <td>522.9645</td>\n",
       "      <td>2</td>\n",
       "      <td>2</td>\n",
       "      <td>1</td>\n",
       "      <td>262.0161</td>\n",
       "      <td>8.394514</td>\n",
       "      <td>328.6337</td>\n",
       "      <td>2.442316</td>\n",
       "      <td>2</td>\n",
       "      <td>...</td>\n",
       "      <td>0.308619</td>\n",
       "      <td>2</td>\n",
       "      <td>1</td>\n",
       "      <td>250.8812</td>\n",
       "      <td>1.649953</td>\n",
       "      <td>189.6148</td>\n",
       "      <td>0.000128</td>\n",
       "      <td>1</td>\n",
       "      <td>1</td>\n",
       "      <td>1</td>\n",
       "    </tr>\n",
       "    <tr>\n",
       "      <th>4</th>\n",
       "      <td>2.569260</td>\n",
       "      <td>523.4748</td>\n",
       "      <td>2</td>\n",
       "      <td>2</td>\n",
       "      <td>1</td>\n",
       "      <td>262.0161</td>\n",
       "      <td>8.394514</td>\n",
       "      <td>328.6337</td>\n",
       "      <td>2.443085</td>\n",
       "      <td>2</td>\n",
       "      <td>...</td>\n",
       "      <td>0.308619</td>\n",
       "      <td>2</td>\n",
       "      <td>1</td>\n",
       "      <td>250.8812</td>\n",
       "      <td>1.649953</td>\n",
       "      <td>189.5027</td>\n",
       "      <td>0.000128</td>\n",
       "      <td>1</td>\n",
       "      <td>1</td>\n",
       "      <td>1</td>\n",
       "    </tr>\n",
       "  </tbody>\n",
       "</table>\n",
       "<p>5 rows × 51 columns</p>\n",
       "</div>"
      ],
      "text/plain": [
       "     FIT101    LIT101  MV101  P101  P102    AIT201    AIT202    AIT203  \\\n",
       "0  2.427057  522.8467      2     2     1  262.0161  8.396437  328.6337   \n",
       "1  2.446274  522.8860      2     2     1  262.0161  8.396437  328.6337   \n",
       "2  2.489191  522.8467      2     2     1  262.0161  8.394514  328.6337   \n",
       "3  2.534350  522.9645      2     2     1  262.0161  8.394514  328.6337   \n",
       "4  2.569260  523.4748      2     2     1  262.0161  8.394514  328.6337   \n",
       "\n",
       "     FIT201  MV201  ...    FIT504  P501  P502    PIT501    PIT502    PIT503  \\\n",
       "0  2.445391      2  ...  0.307786     2     1  250.8652  1.649953  189.5988   \n",
       "1  2.445391      2  ...  0.307786     2     1  250.8652  1.649953  189.6789   \n",
       "2  2.442316      2  ...  0.308619     2     1  250.8812  1.649953  189.6789   \n",
       "3  2.442316      2  ...  0.308619     2     1  250.8812  1.649953  189.6148   \n",
       "4  2.443085      2  ...  0.308619     2     1  250.8812  1.649953  189.5027   \n",
       "\n",
       "     FIT601  P601  P602  P603  \n",
       "0  0.000128     1     1     1  \n",
       "1  0.000128     1     1     1  \n",
       "2  0.000128     1     1     1  \n",
       "3  0.000128     1     1     1  \n",
       "4  0.000128     1     1     1  \n",
       "\n",
       "[5 rows x 51 columns]"
      ]
     },
     "execution_count": 100,
     "metadata": {},
     "output_type": "execute_result"
    }
   ],
   "source": [
    "validation_dropped.head()"
   ]
  },
  {
   "cell_type": "code",
   "execution_count": 101,
   "metadata": {},
   "outputs": [],
   "source": [
    "# Transform all columns into float64\n",
    "for i in list(train_dropped):\n",
    "    train_dropped[i]=train_dropped[i].apply(lambda x: str(x).replace(\",\" , \".\"))\n",
    "train_dropped = train_dropped.astype(float)\n",
    "\n",
    "for i in list(test_dropped):\n",
    "    test_dropped[i]=test_dropped[i].apply(lambda x: str(x).replace(\",\" , \".\"))\n",
    "test_dropped = test_dropped.astype(float)\n",
    "\n",
    "for i in list(validation_dropped):\n",
    "    validation_dropped[i]=validation_dropped[i].apply(lambda x: str(x).replace(\",\" , \".\"))\n",
    "validation_dropped = validation_dropped.astype(float)"
   ]
  },
  {
   "cell_type": "code",
   "execution_count": 57,
   "metadata": {},
   "outputs": [],
   "source": [
    "train_values = train_dropped.values\n",
    "test_values = test_dropped.values\n",
    "validation_values = validation_dropped.values"
   ]
  },
  {
   "cell_type": "code",
   "execution_count": 102,
   "metadata": {},
   "outputs": [
    {
     "name": "stdout",
     "output_type": "stream",
     "text": [
      "Train min: 0.0\n",
      "Train max: 1014.724\n",
      "---\n",
      "Test min: 0.0\n",
      "Test max: 1201.0\n",
      "---\n",
      "Validation min: 0.0\n",
      "Validation max: 1200.0\n"
     ]
    }
   ],
   "source": [
    "print(f'Train min: {train_values.min()}')\n",
    "print(f'Train max: {train_values.max()}')\n",
    "print('---')\n",
    "print(f'Test min: {test_values.min()}')\n",
    "print(f'Test max: {test_values.max()}')\n",
    "print('---')\n",
    "print(f'Validation min: {validation_values.min()}')\n",
    "print(f'Validation max: {validation_values.max()}')"
   ]
  },
  {
   "cell_type": "code",
   "execution_count": 32,
   "metadata": {},
   "outputs": [
    {
     "data": {
      "text/plain": [
       "array([  0.      , 189.8263  ,   0.      ,   1.      ,   1.      ,\n",
       "       168.0338  ,   8.366317, 285.3371  ,   0.      ,   0.      ,\n",
       "         1.      ,   1.      ,   1.      ,   1.      ,   1.      ,\n",
       "         1.      ,   0.      ,   0.      , 364.3863  ,   0.      ,\n",
       "         0.      ,   0.      ,   0.      ,   1.      ,   1.      ,\n",
       "       148.7599  , 140.8357  ,   0.      , 243.0146  ,   1.      ,\n",
       "         1.      ,   1.      ,   1.      ,   1.      ,   7.432902,\n",
       "       129.8385  , 244.8731  ,   9.536016,   0.      ,   0.      ,\n",
       "         0.      ,   0.      ,   1.      ,   1.      ,   9.468726,\n",
       "         0.      ,   3.14022 ,   0.      ,   1.      ,   1.      ,\n",
       "         1.      ])"
      ]
     },
     "execution_count": 32,
     "metadata": {},
     "output_type": "execute_result"
    }
   ],
   "source": [
    "test_values.min(axis=0)"
   ]
  },
  {
   "cell_type": "code",
   "execution_count": 30,
   "metadata": {},
   "outputs": [
    {
     "data": {
      "text/plain": [
       "(495000, 51)"
      ]
     },
     "execution_count": 30,
     "metadata": {},
     "output_type": "execute_result"
    }
   ],
   "source": [
    "train_values.shape"
   ]
  },
  {
   "cell_type": "code",
   "execution_count": 103,
   "metadata": {},
   "outputs": [],
   "source": [
    "from sklearn.preprocessing import MinMaxScaler, MaxAbsScaler\n",
    "\n",
    "def scale_data(train, test, validation):\n",
    "    scaler = MinMaxScaler(feature_range=(0, 1), clip=True).fit(train)\n",
    "    #scaler = MaxAbsScaler().fit(train)\n",
    "\n",
    "    train_scaled = scaler.transform(train)\n",
    "    test_scaled = scaler.transform(test)\n",
    "    validation_scaled = scaler.transform(validation)\n",
    "\n",
    "    # train_scaled = scaler.fit_transform(train)\n",
    "    # validation_scaled = scaler.fit_transform(validation)\n",
    "    # test_scaled = scaler.fit_transform(test)\n",
    "\n",
    "    return train_scaled, test_scaled, validation_scaled"
   ]
  },
  {
   "cell_type": "code",
   "execution_count": 104,
   "metadata": {},
   "outputs": [],
   "source": [
    "train_norm, test_norm, validation_norm = scale_data(train_values, test_values, validation_values)"
   ]
  },
  {
   "cell_type": "code",
   "execution_count": 105,
   "metadata": {},
   "outputs": [
    {
     "name": "stdout",
     "output_type": "stream",
     "text": [
      "-----Dim 0----\n",
      "TRAIN original: 0.0, 2.745092\n",
      "TRAIN norm:    0.0, 1.0\n",
      "TEST original: 0.0, 2.760145\n",
      "TEST norm:    0.0, 1.0\n",
      "VAL original: 0.0, 2.698972\n",
      "VAL norm:    0.0, 0.9831991058951758\n",
      "-----Dim 1----\n",
      "TRAIN original: 120.6237, 817.5565\n",
      "TRAIN norm:    0.0, 1.0\n",
      "TEST original: 189.8263, 888.1722\n",
      "TEST norm:    0.09929594359743149, 1.0\n",
      "VAL original: 488.0688, 925.0323\n",
      "VAL norm:    0.5272317503208344, 1.0\n",
      "-----Dim 2----\n",
      "TRAIN original: 0.0, 2.0\n",
      "TRAIN norm:    0.0, 1.0\n",
      "TEST original: 0.0, 2.0\n",
      "TEST norm:    0.0, 1.0\n",
      "VAL original: 0.0, 2.0\n",
      "VAL norm:    0.0, 1.0\n",
      "-----Dim 3----\n",
      "TRAIN original: 1.0, 2.0\n",
      "TRAIN norm:    0.0, 1.0\n",
      "TEST original: 1.0, 2.0\n",
      "TEST norm:    0.0, 1.0\n",
      "VAL original: 1.0, 2.0\n",
      "VAL norm:    0.0, 1.0\n",
      "-----Dim 4----\n",
      "TRAIN original: 1.0, 1.0\n",
      "TRAIN norm:    0.0, 0.0\n",
      "TEST original: 1.0, 2.0\n",
      "TEST norm:    0.0, 1.0\n",
      "VAL original: 1.0, 2.0\n",
      "VAL norm:    0.0, 1.0\n",
      "-----Dim 5----\n",
      "TRAIN original: 251.6662, 272.5263\n",
      "TRAIN norm:    0.0, 1.0\n",
      "TEST original: 168.0338, 267.7198\n",
      "TEST norm:    0.0, 0.7695840384274284\n",
      "VAL original: 257.8826, 266.0856\n",
      "VAL norm:    0.2980043240444683, 0.6912430908768403\n",
      "-----Dim 6----\n",
      "TRAIN original: 8.258652, 8.988273\n",
      "TRAIN norm:    0.0, 1.0\n",
      "TEST original: 8.366317, 8.73321\n",
      "TEST norm:    0.14756291279993405, 0.6504171343752443\n",
      "VAL original: 6.0, 8.470778\n",
      "VAL norm:    0.0, 0.2907345046263732\n",
      "-----Dim 7----\n",
      "TRAIN original: 312.2789, 567.4699\n",
      "TRAIN norm:    0.0, 1.0\n",
      "TEST original: 285.3371, 384.4655\n",
      "TEST norm:    0.0, 0.2828728285872151\n",
      "VAL original: 314.8423, 336.8111\n",
      "VAL norm:    0.010045025098847526, 0.09613270060464507\n",
      "-----Dim 8----\n",
      "TRAIN original: 0.0, 2.487938\n",
      "TRAIN norm:    0.0, 1.0\n",
      "TEST original: 0.0, 2.826899\n",
      "TEST norm:    0.0, 1.0\n",
      "VAL original: 0.0, 2.804857\n",
      "VAL norm:    0.0, 1.0\n",
      "-----Dim 9----\n",
      "TRAIN original: 0.0, 2.0\n",
      "TRAIN norm:    0.0, 1.0\n",
      "TEST original: 0.0, 2.0\n",
      "TEST norm:    0.0, 1.0\n",
      "VAL original: 0.0, 2.0\n",
      "VAL norm:    0.0, 1.0\n",
      "-----Dim 10----\n",
      "TRAIN original: 1.0, 1.0\n",
      "TRAIN norm:    0.0, 0.0\n",
      "TEST original: 1.0, 2.0\n",
      "TEST norm:    0.0, 1.0\n",
      "VAL original: 1.0, 1.0\n",
      "VAL norm:    0.0, 0.0\n",
      "-----Dim 11----\n",
      "TRAIN original: 1.0, 1.0\n",
      "TRAIN norm:    0.0, 0.0\n",
      "TEST original: 1.0, 1.0\n",
      "TEST norm:    0.0, 0.0\n",
      "VAL original: 1.0, 1.0\n",
      "VAL norm:    0.0, 0.0\n",
      "-----Dim 12----\n",
      "TRAIN original: 1.0, 2.0\n",
      "TRAIN norm:    0.0, 1.0\n",
      "TEST original: 1.0, 2.0\n",
      "TEST norm:    0.0, 1.0\n",
      "VAL original: 1.0, 2.0\n",
      "VAL norm:    0.0, 1.0\n",
      "-----Dim 13----\n",
      "TRAIN original: 1.0, 1.0\n",
      "TRAIN norm:    0.0, 0.0\n",
      "TEST original: 1.0, 2.0\n",
      "TEST norm:    0.0, 1.0\n",
      "VAL original: 1.0, 1.0\n",
      "VAL norm:    0.0, 0.0\n",
      "-----Dim 14----\n",
      "TRAIN original: 1.0, 2.0\n",
      "TRAIN norm:    0.0, 1.0\n",
      "TEST original: 1.0, 2.0\n",
      "TEST norm:    0.0, 1.0\n",
      "VAL original: 1.0, 2.0\n",
      "VAL norm:    0.0, 1.0\n",
      "-----Dim 15----\n",
      "TRAIN original: 1.0, 1.0\n",
      "TRAIN norm:    0.0, 0.0\n",
      "TEST original: 1.0, 2.0\n",
      "TEST norm:    0.0, 1.0\n",
      "VAL original: 1.0, 1.0\n",
      "VAL norm:    0.0, 0.0\n",
      "-----Dim 16----\n",
      "TRAIN original: 0.0, 21.0993\n",
      "TRAIN norm:    0.0, 1.0\n",
      "TEST original: 0.0, 45.0\n",
      "TEST norm:    0.0, 1.0\n",
      "VAL original: 0.006402459, 45.0\n",
      "VAL norm:    0.00030344414269667716, 1.0\n",
      "-----Dim 17----\n",
      "TRAIN original: 0.0, 2.358774\n",
      "TRAIN norm:    0.0, 1.0\n",
      "TEST original: 0.0, 2.376197\n",
      "TEST norm:    0.0, 1.0\n",
      "VAL original: 0.0, 2.352112\n",
      "VAL norm:    0.0, 0.9971756514189151\n",
      "-----Dim 18----\n",
      "TRAIN original: 132.8185, 1014.724\n",
      "TRAIN norm:    0.0, 1.0\n",
      "TEST original: 364.3863, 1201.0\n",
      "TEST norm:    0.26257665929059293, 1.0\n",
      "VAL original: 732.1039, 1200.0\n",
      "VAL norm:    0.6795347120524817, 1.0\n",
      "-----Dim 19----\n",
      "TRAIN original: 0.0, 2.0\n",
      "TRAIN norm:    0.0, 1.0\n",
      "TEST original: 0.0, 2.0\n",
      "TEST norm:    0.0, 1.0\n",
      "VAL original: 0.0, 2.0\n",
      "VAL norm:    0.0, 1.0\n",
      "-----Dim 20----\n",
      "TRAIN original: 0.0, 2.0\n",
      "TRAIN norm:    0.0, 1.0\n",
      "TEST original: 0.0, 2.0\n",
      "TEST norm:    0.0, 1.0\n",
      "VAL original: 0.0, 2.0\n",
      "VAL norm:    0.0, 1.0\n",
      "-----Dim 21----\n",
      "TRAIN original: 0.0, 2.0\n",
      "TRAIN norm:    0.0, 1.0\n",
      "TEST original: 0.0, 2.0\n",
      "TEST norm:    0.0, 1.0\n",
      "VAL original: 0.0, 2.0\n",
      "VAL norm:    0.0, 1.0\n",
      "-----Dim 22----\n",
      "TRAIN original: 0.0, 2.0\n",
      "TRAIN norm:    0.0, 1.0\n",
      "TEST original: 0.0, 2.0\n",
      "TEST norm:    0.0, 1.0\n",
      "VAL original: 0.0, 2.0\n",
      "VAL norm:    0.0, 1.0\n",
      "-----Dim 23----\n",
      "TRAIN original: 1.0, 2.0\n",
      "TRAIN norm:    0.0, 1.0\n",
      "TEST original: 1.0, 1.0\n",
      "TEST norm:    0.0, 0.0\n",
      "VAL original: 1.0, 1.0\n",
      "VAL norm:    0.0, 0.0\n",
      "-----Dim 24----\n",
      "TRAIN original: 1.0, 2.0\n",
      "TRAIN norm:    0.0, 1.0\n",
      "TEST original: 1.0, 2.0\n",
      "TEST norm:    0.0, 1.0\n",
      "VAL original: 1.0, 2.0\n",
      "VAL norm:    0.0, 1.0\n",
      "-----Dim 25----\n",
      "TRAIN original: 0.0, 148.8561\n",
      "TRAIN norm:    0.0, 1.0\n",
      "TEST original: 148.7599, 148.8561\n",
      "TEST norm:    0.9993537382747499, 1.0\n",
      "VAL original: 148.7695, 148.8561\n",
      "VAL norm:    0.9994182300893278, 1.0\n",
      "-----Dim 26----\n",
      "TRAIN original: 153.7811, 235.7088\n",
      "TRAIN norm:    0.0, 1.0\n",
      "TEST original: 140.8357, 333.8118\n",
      "TEST norm:    0.0, 1.0\n",
      "VAL original: 151.961, 297.3853\n",
      "VAL norm:    0.0, 1.0\n",
      "-----Dim 27----\n",
      "TRAIN original: 0.0, 1.747862\n",
      "TRAIN norm:    0.0, 1.0\n",
      "TEST original: 0.0, 1.744914\n",
      "TEST norm:    0.0, 0.998313367989006\n",
      "VAL original: 0.0, 1.743504\n",
      "VAL norm:    0.0, 0.9975066681465699\n",
      "-----Dim 28----\n",
      "TRAIN original: 130.3896, 1003.935\n",
      "TRAIN norm:    0.0, 0.9999999999999999\n",
      "TEST original: 243.0146, 1002.781\n",
      "TEST norm:    0.12892861664659905, 0.9986789467382003\n",
      "VAL original: 572.6224, 1001.935\n",
      "VAL norm:    0.5062505051254348, 0.9977104796155986\n",
      "-----Dim 29----\n",
      "TRAIN original: 1.0, 1.0\n",
      "TRAIN norm:    0.0, 0.0\n",
      "TEST original: 1.0, 1.0\n",
      "TEST norm:    0.0, 0.0\n",
      "VAL original: 1.0, 1.0\n",
      "VAL norm:    0.0, 0.0\n",
      "-----Dim 30----\n",
      "TRAIN original: 1.0, 2.0\n",
      "TRAIN norm:    0.0, 1.0\n",
      "TEST original: 1.0, 2.0\n",
      "TEST norm:    0.0, 1.0\n",
      "VAL original: 1.0, 2.0\n",
      "VAL norm:    0.0, 1.0\n",
      "-----Dim 31----\n",
      "TRAIN original: 1.0, 1.0\n",
      "TRAIN norm:    0.0, 0.0\n",
      "TEST original: 1.0, 2.0\n",
      "TEST norm:    0.0, 1.0\n",
      "VAL original: 1.0, 1.0\n",
      "VAL norm:    0.0, 0.0\n",
      "-----Dim 32----\n",
      "TRAIN original: 1.0, 1.0\n",
      "TRAIN norm:    0.0, 0.0\n",
      "TEST original: 1.0, 1.0\n",
      "TEST norm:    0.0, 0.0\n",
      "VAL original: 1.0, 1.0\n",
      "VAL norm:    0.0, 0.0\n",
      "-----Dim 33----\n",
      "TRAIN original: 1.0, 2.0\n",
      "TRAIN norm:    0.0, 1.0\n",
      "TEST original: 1.0, 2.0\n",
      "TEST norm:    0.0, 1.0\n",
      "VAL original: 1.0, 2.0\n",
      "VAL norm:    0.0, 1.0\n",
      "-----Dim 34----\n",
      "TRAIN original: 7.411433, 7.925084\n",
      "TRAIN norm:    0.0, 1.0\n",
      "TEST original: 7.432902, 8.307037\n",
      "TEST norm:    0.04179686207171862, 1.0\n",
      "VAL original: 7.831518, 8.219559\n",
      "VAL norm:    0.8178412969117161, 1.0\n",
      "-----Dim 35----\n",
      "TRAIN original: 142.3481, 218.3286\n",
      "TRAIN norm:    0.0, 1.0\n",
      "TEST original: 129.8385, 260.0\n",
      "TEST norm:    0.0, 1.0\n",
      "VAL original: 141.8354, 272.8531\n",
      "VAL norm:    0.0, 1.0\n",
      "-----Dim 36----\n",
      "TRAIN original: 252.0828, 283.3568\n",
      "TRAIN norm:    0.0, 1.0\n",
      "TEST original: 244.8731, 297.2635\n",
      "TEST norm:    0.0, 1.0\n",
      "VAL original: 260.0936, 291.0151\n",
      "VAL norm:    0.25614887766195515, 1.0\n",
      "-----Dim 37----\n",
      "TRAIN original: 7.344271, 227.1725\n",
      "TRAIN norm:    0.0, 0.9999999999999999\n",
      "TEST original: 9.536016, 442.4635\n",
      "TEST norm:    0.009970261826564596, 1.0\n",
      "VAL original: 9.766726, 18.99513\n",
      "VAL norm:    0.011019763071466127, 0.05299983106355279\n",
      "-----Dim 38----\n",
      "TRAIN original: 0.001281723, 1.757754\n",
      "TRAIN norm:    0.0, 1.0\n",
      "TEST original: 0.0, 1.753653\n",
      "TEST norm:    0.0, 0.9976652065314663\n",
      "VAL original: 1.217636, 1.752628\n",
      "VAL norm:    0.6924984202298343, 0.9970816504950736\n",
      "-----Dim 39----\n",
      "TRAIN original: 0.000640451, 1.361983\n",
      "TRAIN norm:    0.0, 1.0\n",
      "TEST original: 0.0, 1.358781\n",
      "TEST norm:    0.0, 0.9976479101440325\n",
      "VAL original: 0.8169591, 1.360318\n",
      "VAL norm:    0.599642352763926, 0.9987769426576558\n",
      "-----Dim 40----\n",
      "TRAIN original: 0.001664373, 0.7636911\n",
      "TRAIN norm:    0.0, 1.0\n",
      "TEST original: 0.0, 0.7415421\n",
      "TEST norm:    0.0, 0.9709340903472012\n",
      "VAL original: 0.3337708, 0.7391096\n",
      "VAL norm:    0.4358199197388519, 0.96774194509322\n",
      "-----Dim 41----\n",
      "TRAIN original: 0.0, 0.3170099\n",
      "TRAIN norm:    0.0, 1.0\n",
      "TEST original: 0.0, 0.3116933\n",
      "TEST norm:    0.0, 0.9832289149329405\n",
      "VAL original: 0.0, 0.3109887\n",
      "VAL norm:    0.0, 0.9810062714129748\n",
      "-----Dim 42----\n",
      "TRAIN original: 1.0, 2.0\n",
      "TRAIN norm:    0.0, 1.0\n",
      "TEST original: 1.0, 2.0\n",
      "TEST norm:    0.0, 1.0\n",
      "VAL original: 1.0, 2.0\n",
      "VAL norm:    0.0, 1.0\n",
      "-----Dim 43----\n",
      "TRAIN original: 1.0, 1.0\n",
      "TRAIN norm:    0.0, 0.0\n",
      "TEST original: 1.0, 1.0\n",
      "TEST norm:    0.0, 0.0\n",
      "VAL original: 1.0, 1.0\n",
      "VAL norm:    0.0, 0.0\n",
      "-----Dim 44----\n",
      "TRAIN original: 8.891951, 264.6437\n",
      "TRAIN norm:    0.0, 1.0\n",
      "TEST original: 9.468726, 254.3418\n",
      "TEST norm:    0.0022552142937642267, 0.9597191415492528\n",
      "VAL original: 163.8843, 251.522\n",
      "VAL norm:    0.6060265456874743, 0.9486936060014978\n",
      "-----Dim 45----\n",
      "TRAIN original: 0.0, 3.668343\n",
      "TRAIN norm:    0.0, 0.9999999999999999\n",
      "TEST original: 0.0, 1.826162\n",
      "TEST norm:    0.0, 0.4978165891248446\n",
      "VAL original: 0.0, 1.970333\n",
      "VAL norm:    0.0, 0.5371179848776408\n",
      "-----Dim 46----\n",
      "TRAIN original: 3.108177, 200.6376\n",
      "TRAIN norm:    0.0, 1.0\n",
      "TEST original: 3.14022, 191.986\n",
      "TEST norm:    0.00016221887105902222, 0.9562009554394335\n",
      "VAL original: 134.4687, 190.3679\n",
      "VAL norm:    0.6650174996967415, 0.9480092644223439\n",
      "-----Dim 47----\n",
      "TRAIN original: 0.0, 1.746131\n",
      "TRAIN norm:    0.0, 0.9999999999999999\n",
      "TEST original: 0.0, 1.80271\n",
      "TEST norm:    0.0, 1.0\n",
      "VAL original: 0.0, 1.742287\n",
      "VAL norm:    0.0, 0.9977985615054081\n",
      "-----Dim 48----\n",
      "TRAIN original: 1.0, 1.0\n",
      "TRAIN norm:    0.0, 0.0\n",
      "TEST original: 1.0, 1.0\n",
      "TEST norm:    0.0, 0.0\n",
      "VAL original: 1.0, 1.0\n",
      "VAL norm:    0.0, 0.0\n",
      "-----Dim 49----\n",
      "TRAIN original: 1.0, 2.0\n",
      "TRAIN norm:    0.0, 1.0\n",
      "TEST original: 1.0, 2.0\n",
      "TEST norm:    0.0, 1.0\n",
      "VAL original: 1.0, 2.0\n",
      "VAL norm:    0.0, 1.0\n",
      "-----Dim 50----\n",
      "TRAIN original: 1.0, 1.0\n",
      "TRAIN norm:    0.0, 0.0\n",
      "TEST original: 1.0, 1.0\n",
      "TEST norm:    0.0, 0.0\n",
      "VAL original: 1.0, 1.0\n",
      "VAL norm:    0.0, 0.0\n"
     ]
    }
   ],
   "source": [
    "for i in range(51):\n",
    "    print(f'-----Dim {i}----')\n",
    "    print(f'TRAIN original: {train_values[:, i].min()}, {train_values[:, i].max()}')\n",
    "    print(f'TRAIN norm:    {train_norm[:, i].min()}, {train_norm[:, i].max()}')\n",
    "    print(f'TEST original: {test_values[:, i].min()}, {test_values[:, i].max()}')\n",
    "    print(f'TEST norm:    {test_norm[:, i].min()}, {test_norm[:, i].max()}')\n",
    "    print(f'VAL original: {validation_values[:, i].min()}, {validation_values[:, i].max()}')\n",
    "    print(f'VAL norm:    {validation_norm[:, i].min()}, {validation_norm[:, i].max()}')\n"
   ]
  },
  {
   "cell_type": "code",
   "execution_count": 106,
   "metadata": {},
   "outputs": [
    {
     "name": "stdout",
     "output_type": "stream",
     "text": [
      "0.0 1.0\n",
      "0.0 1.0\n",
      "0.0 1.0\n",
      "(495000, 51) (404928, 51) (44991, 51)\n"
     ]
    }
   ],
   "source": [
    "print(train_norm.min(), train_norm.max())\n",
    "print(test_norm.min(), test_norm.max())\n",
    "print(validation_norm.min(), validation_norm.max())\n",
    "print(train_norm.shape, test_norm.shape, validation_norm.shape)"
   ]
  },
  {
   "cell_type": "code",
   "execution_count": 107,
   "metadata": {},
   "outputs": [],
   "source": [
    "test_labels_clipped = test_labels_clipped.to_numpy()\n",
    "test_labels_reshaped = np.zeros_like(test_norm)\n",
    "\n",
    "for idx in range(0, len(test_labels_clipped)):\n",
    "    if test_labels_clipped[idx]:\n",
    "        # labels_reshaped.shape[1] == 51 aka num_feats\n",
    "        test_labels_reshaped[idx][0:test_labels_reshaped.shape[1]] = 1"
   ]
  },
  {
   "cell_type": "code",
   "execution_count": 108,
   "metadata": {},
   "outputs": [],
   "source": [
    "validation_labels_reshaped = np.zeros_like(validation_norm)\n",
    "\n",
    "for idx in range(0, len(validation_labels)):\n",
    "    if validation_labels[idx]:\n",
    "        # labels_reshaped.shape[1] == 51 aka num_feats\n",
    "        validation_labels_reshaped[idx][0:validation_labels_reshaped.shape[1]] = 1"
   ]
  },
  {
   "cell_type": "code",
   "execution_count": 109,
   "metadata": {},
   "outputs": [
    {
     "name": "stdout",
     "output_type": "stream",
     "text": [
      "(404928, 51) (44991, 51)\n"
     ]
    }
   ],
   "source": [
    "print(test_labels_reshaped.shape, validation_labels_reshaped.shape)"
   ]
  },
  {
   "cell_type": "code",
   "execution_count": 110,
   "metadata": {},
   "outputs": [],
   "source": [
    "np.save('labels.npy', test_labels_reshaped)\n",
    "np.save('labels_validation.npy', validation_labels_reshaped)\n",
    "np.save('train.npy', train_norm)\n",
    "np.save('test.npy', test_norm)\n",
    "np.save('validation.npy', validation_norm)"
   ]
  },
  {
   "cell_type": "code",
   "execution_count": 111,
   "metadata": {},
   "outputs": [],
   "source": [
    "load_test = np.load('../processed/SWAT_big/validation.npy')"
   ]
  },
  {
   "cell_type": "code",
   "execution_count": 81,
   "metadata": {},
   "outputs": [],
   "source": [
    "import numpy as np\n",
    "labels = np.load('../processed/SWAT_big/labels.npy')\n",
    "labels_validation = np.load('../processed/SWAT_big/labels_validation.npy')\n",
    "labels = (np.sum(labels, axis=1) >= 1) + 0\n",
    "labels_validation = (np.sum(labels_validation, axis=1) >= 1) + 0\n",
    "# labels.shape[0]"
   ]
  },
  {
   "cell_type": "code",
   "execution_count": 82,
   "metadata": {},
   "outputs": [
    {
     "data": {
      "text/plain": [
       "12.140185233342002"
      ]
     },
     "execution_count": 82,
     "metadata": {},
     "output_type": "execute_result"
    }
   ],
   "source": [
    "((labels.sum() + labels_validation.sum()) / (labels.shape[0] + labels_validation.shape[0])) * 100"
   ]
  },
  {
   "cell_type": "code",
   "execution_count": 55,
   "metadata": {},
   "outputs": [
    {
     "data": {
      "text/plain": [
       "1501"
      ]
     },
     "execution_count": 55,
     "metadata": {},
     "output_type": "execute_result"
    }
   ],
   "source": [
    "labels.sum()"
   ]
  },
  {
   "cell_type": "code",
   "execution_count": 61,
   "metadata": {},
   "outputs": [
    {
     "data": {
      "text/plain": [
       "0.12386152599968389"
      ]
     },
     "execution_count": 61,
     "metadata": {},
     "output_type": "execute_result"
    }
   ],
   "source": [
    "(labels.sum() / labels.shape[0]) "
   ]
  },
  {
   "cell_type": "code",
   "execution_count": 113,
   "metadata": {},
   "outputs": [
    {
     "data": {
      "text/plain": [
       "(44991, 51)"
      ]
     },
     "execution_count": 113,
     "metadata": {},
     "output_type": "execute_result"
    }
   ],
   "source": [
    "load_test.shape"
   ]
  },
  {
   "cell_type": "code",
   "execution_count": null,
   "metadata": {},
   "outputs": [],
   "source": []
  }
 ],
 "metadata": {
  "kernelspec": {
   "display_name": "py3.9test",
   "language": "python",
   "name": "python3"
  },
  "language_info": {
   "codemirror_mode": {
    "name": "ipython",
    "version": 3
   },
   "file_extension": ".py",
   "mimetype": "text/x-python",
   "name": "python",
   "nbconvert_exporter": "python",
   "pygments_lexer": "ipython3",
   "version": "3.9.13"
  },
  "orig_nbformat": 4,
  "vscode": {
   "interpreter": {
    "hash": "27efe6010b91a164a18a011cd71b7afbe2f076e5b83b7f8099f414d97e11e710"
   }
  }
 },
 "nbformat": 4,
 "nbformat_minor": 2
}
