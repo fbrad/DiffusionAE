{
 "cells": [
  {
   "cell_type": "code",
   "execution_count": 147,
   "metadata": {},
   "outputs": [],
   "source": [
    "import numpy as np\n",
    "import pandas as pd"
   ]
  },
  {
   "cell_type": "code",
   "execution_count": 148,
   "metadata": {},
   "outputs": [],
   "source": [
    "DATASET = 'pattern_trend10'\n",
    "ORIG = 'trend'\n",
    "FILE = 'trend10'"
   ]
  },
  {
   "cell_type": "code",
   "execution_count": 76,
   "metadata": {},
   "outputs": [],
   "source": [
    "def abs_normalize(a):\n",
    "    a = a / np.maximum(np.absolute(a.max(axis=0)), np.absolute(a.min(axis=0)))\n",
    "    a = np.nan_to_num(a)\n",
    "    return (a / 2 + 0.5)"
   ]
  },
  {
   "cell_type": "code",
   "execution_count": 39,
   "metadata": {},
   "outputs": [
    {
     "name": "stderr",
     "output_type": "stream",
     "text": [
      "/root/.conda/envs/py3.9test/lib/python3.9/site-packages/scipy/__init__.py:138: UserWarning: A NumPy version >=1.16.5 and <1.23.0 is required for this version of SciPy (detected version 1.23.1)\n",
      "  warnings.warn(f\"A NumPy version >={np_minversion} and <{np_maxversion} is required for this version of \"\n"
     ]
    }
   ],
   "source": [
    "from sklearn.preprocessing import MinMaxScaler\n",
    "\n",
    "def scale_data(train, test, validation):\n",
    "    scaler = MinMaxScaler(feature_range=(0, 1), clip=True).fit(train)\n",
    "\n",
    "    train_scaled = scaler.transform(train)\n",
    "    test_scaled = scaler.transform(test)\n",
    "    validation_scaled = scaler.transform(validation)\n",
    "\n",
    "    return train_scaled, test_scaled, validation_scaled"
   ]
  },
  {
   "cell_type": "code",
   "execution_count": 149,
   "metadata": {},
   "outputs": [
    {
     "data": {
      "text/html": [
       "<div>\n",
       "<style scoped>\n",
       "    .dataframe tbody tr th:only-of-type {\n",
       "        vertical-align: middle;\n",
       "    }\n",
       "\n",
       "    .dataframe tbody tr th {\n",
       "        vertical-align: top;\n",
       "    }\n",
       "\n",
       "    .dataframe thead th {\n",
       "        text-align: right;\n",
       "    }\n",
       "</style>\n",
       "<table border=\"1\" class=\"dataframe\">\n",
       "  <thead>\n",
       "    <tr style=\"text-align: right;\">\n",
       "      <th></th>\n",
       "      <th>col_0</th>\n",
       "      <th>col_1</th>\n",
       "      <th>col_2</th>\n",
       "      <th>col_3</th>\n",
       "      <th>col_4</th>\n",
       "      <th>anomaly</th>\n",
       "    </tr>\n",
       "  </thead>\n",
       "  <tbody>\n",
       "    <tr>\n",
       "      <th>0</th>\n",
       "      <td>-0.131232</td>\n",
       "      <td>2.607850</td>\n",
       "      <td>0.066011</td>\n",
       "      <td>4.381993</td>\n",
       "      <td>-1.894449</td>\n",
       "      <td>0</td>\n",
       "    </tr>\n",
       "    <tr>\n",
       "      <th>1</th>\n",
       "      <td>0.398736</td>\n",
       "      <td>2.403965</td>\n",
       "      <td>0.442701</td>\n",
       "      <td>4.554839</td>\n",
       "      <td>-1.530790</td>\n",
       "      <td>0</td>\n",
       "    </tr>\n",
       "    <tr>\n",
       "      <th>2</th>\n",
       "      <td>0.809108</td>\n",
       "      <td>2.170690</td>\n",
       "      <td>0.702547</td>\n",
       "      <td>3.998227</td>\n",
       "      <td>-1.414847</td>\n",
       "      <td>0</td>\n",
       "    </tr>\n",
       "    <tr>\n",
       "      <th>3</th>\n",
       "      <td>1.007888</td>\n",
       "      <td>1.874675</td>\n",
       "      <td>1.006700</td>\n",
       "      <td>3.990737</td>\n",
       "      <td>-0.910490</td>\n",
       "      <td>0</td>\n",
       "    </tr>\n",
       "    <tr>\n",
       "      <th>4</th>\n",
       "      <td>1.340091</td>\n",
       "      <td>1.311106</td>\n",
       "      <td>1.337947</td>\n",
       "      <td>3.413961</td>\n",
       "      <td>-0.720344</td>\n",
       "      <td>0</td>\n",
       "    </tr>\n",
       "  </tbody>\n",
       "</table>\n",
       "</div>"
      ],
      "text/plain": [
       "      col_0     col_1     col_2     col_3     col_4  anomaly\n",
       "0 -0.131232  2.607850  0.066011  4.381993 -1.894449        0\n",
       "1  0.398736  2.403965  0.442701  4.554839 -1.530790        0\n",
       "2  0.809108  2.170690  0.702547  3.998227 -1.414847        0\n",
       "3  1.007888  1.874675  1.006700  3.990737 -0.910490        0\n",
       "4  1.340091  1.311106  1.337947  3.413961 -0.720344        0"
      ]
     },
     "execution_count": 149,
     "metadata": {},
     "output_type": "execute_result"
    }
   ],
   "source": [
    "time_series = pd.read_csv(f'{FILE}_train_test_val.csv')\n",
    "time_series.head()"
   ]
  },
  {
   "cell_type": "code",
   "execution_count": 150,
   "metadata": {},
   "outputs": [
    {
     "data": {
      "text/html": [
       "<div>\n",
       "<style scoped>\n",
       "    .dataframe tbody tr th:only-of-type {\n",
       "        vertical-align: middle;\n",
       "    }\n",
       "\n",
       "    .dataframe tbody tr th {\n",
       "        vertical-align: top;\n",
       "    }\n",
       "\n",
       "    .dataframe thead th {\n",
       "        text-align: right;\n",
       "    }\n",
       "</style>\n",
       "<table border=\"1\" class=\"dataframe\">\n",
       "  <thead>\n",
       "    <tr style=\"text-align: right;\">\n",
       "      <th></th>\n",
       "      <th>col_0</th>\n",
       "      <th>col_1</th>\n",
       "      <th>col_2</th>\n",
       "      <th>col_3</th>\n",
       "      <th>col_4</th>\n",
       "      <th>anomaly</th>\n",
       "    </tr>\n",
       "  </thead>\n",
       "  <tbody>\n",
       "    <tr>\n",
       "      <th>0</th>\n",
       "      <td>-0.131232</td>\n",
       "      <td>2.607850</td>\n",
       "      <td>0.066011</td>\n",
       "      <td>4.381993</td>\n",
       "      <td>-1.894449</td>\n",
       "      <td>0</td>\n",
       "    </tr>\n",
       "    <tr>\n",
       "      <th>1</th>\n",
       "      <td>0.398736</td>\n",
       "      <td>2.403965</td>\n",
       "      <td>0.442701</td>\n",
       "      <td>4.554839</td>\n",
       "      <td>-1.530790</td>\n",
       "      <td>0</td>\n",
       "    </tr>\n",
       "    <tr>\n",
       "      <th>2</th>\n",
       "      <td>0.809108</td>\n",
       "      <td>2.170690</td>\n",
       "      <td>0.702547</td>\n",
       "      <td>3.998227</td>\n",
       "      <td>-1.414847</td>\n",
       "      <td>0</td>\n",
       "    </tr>\n",
       "    <tr>\n",
       "      <th>3</th>\n",
       "      <td>1.007888</td>\n",
       "      <td>1.874675</td>\n",
       "      <td>1.006700</td>\n",
       "      <td>3.990737</td>\n",
       "      <td>-0.910490</td>\n",
       "      <td>0</td>\n",
       "    </tr>\n",
       "    <tr>\n",
       "      <th>4</th>\n",
       "      <td>1.340091</td>\n",
       "      <td>1.311106</td>\n",
       "      <td>1.337947</td>\n",
       "      <td>3.413961</td>\n",
       "      <td>-0.720344</td>\n",
       "      <td>0</td>\n",
       "    </tr>\n",
       "  </tbody>\n",
       "</table>\n",
       "</div>"
      ],
      "text/plain": [
       "      col_0     col_1     col_2     col_3     col_4  anomaly\n",
       "0 -0.131232  2.607850  0.066011  4.381993 -1.894449        0\n",
       "1  0.398736  2.403965  0.442701  4.554839 -1.530790        0\n",
       "2  0.809108  2.170690  0.702547  3.998227 -1.414847        0\n",
       "3  1.007888  1.874675  1.006700  3.990737 -0.910490        0\n",
       "4  1.340091  1.311106  1.337947  3.413961 -0.720344        0"
      ]
     },
     "execution_count": 150,
     "metadata": {},
     "output_type": "execute_result"
    }
   ],
   "source": [
    "train_time_series = time_series[:20000]\n",
    "train_time_series.head()"
   ]
  },
  {
   "cell_type": "code",
   "execution_count": 152,
   "metadata": {},
   "outputs": [
    {
     "name": "stdout",
     "output_type": "stream",
     "text": [
      "-15.097620609417833\n",
      "85.04304598705383\n"
     ]
    }
   ],
   "source": [
    "print(train_time_series['col_4'].min())\n",
    "print(train_time_series['col_4'].max())"
   ]
  },
  {
   "cell_type": "code",
   "execution_count": 79,
   "metadata": {},
   "outputs": [
    {
     "data": {
      "text/html": [
       "<div>\n",
       "<style scoped>\n",
       "    .dataframe tbody tr th:only-of-type {\n",
       "        vertical-align: middle;\n",
       "    }\n",
       "\n",
       "    .dataframe tbody tr th {\n",
       "        vertical-align: top;\n",
       "    }\n",
       "\n",
       "    .dataframe thead th {\n",
       "        text-align: right;\n",
       "    }\n",
       "</style>\n",
       "<table border=\"1\" class=\"dataframe\">\n",
       "  <thead>\n",
       "    <tr style=\"text-align: right;\">\n",
       "      <th></th>\n",
       "      <th>col_0</th>\n",
       "      <th>col_1</th>\n",
       "      <th>col_2</th>\n",
       "      <th>col_3</th>\n",
       "      <th>col_4</th>\n",
       "      <th>anomaly</th>\n",
       "    </tr>\n",
       "  </thead>\n",
       "  <tbody>\n",
       "    <tr>\n",
       "      <th>20000</th>\n",
       "      <td>0.113480</td>\n",
       "      <td>2.541960</td>\n",
       "      <td>0.002418</td>\n",
       "      <td>4.413778</td>\n",
       "      <td>2.513933</td>\n",
       "      <td>0</td>\n",
       "    </tr>\n",
       "    <tr>\n",
       "      <th>20001</th>\n",
       "      <td>0.425330</td>\n",
       "      <td>2.352705</td>\n",
       "      <td>0.402986</td>\n",
       "      <td>4.343363</td>\n",
       "      <td>2.861954</td>\n",
       "      <td>0</td>\n",
       "    </tr>\n",
       "    <tr>\n",
       "      <th>20002</th>\n",
       "      <td>0.593477</td>\n",
       "      <td>2.385319</td>\n",
       "      <td>0.795860</td>\n",
       "      <td>4.250515</td>\n",
       "      <td>3.343678</td>\n",
       "      <td>0</td>\n",
       "    </tr>\n",
       "    <tr>\n",
       "      <th>20003</th>\n",
       "      <td>0.990708</td>\n",
       "      <td>1.682974</td>\n",
       "      <td>1.020078</td>\n",
       "      <td>3.947763</td>\n",
       "      <td>3.418243</td>\n",
       "      <td>0</td>\n",
       "    </tr>\n",
       "    <tr>\n",
       "      <th>20004</th>\n",
       "      <td>1.328372</td>\n",
       "      <td>1.452374</td>\n",
       "      <td>1.258230</td>\n",
       "      <td>3.126827</td>\n",
       "      <td>3.671927</td>\n",
       "      <td>0</td>\n",
       "    </tr>\n",
       "  </tbody>\n",
       "</table>\n",
       "</div>"
      ],
      "text/plain": [
       "          col_0     col_1     col_2     col_3     col_4  anomaly\n",
       "20000  0.113480  2.541960  0.002418  4.413778  2.513933        0\n",
       "20001  0.425330  2.352705  0.402986  4.343363  2.861954        0\n",
       "20002  0.593477  2.385319  0.795860  4.250515  3.343678        0\n",
       "20003  0.990708  1.682974  1.020078  3.947763  3.418243        0\n",
       "20004  1.328372  1.452374  1.258230  3.126827  3.671927        0"
      ]
     },
     "execution_count": 79,
     "metadata": {},
     "output_type": "execute_result"
    }
   ],
   "source": [
    "test_time_series = time_series[20000:40000]\n",
    "test_time_series.head()"
   ]
  },
  {
   "cell_type": "code",
   "execution_count": 80,
   "metadata": {},
   "outputs": [
    {
     "data": {
      "text/html": [
       "<div>\n",
       "<style scoped>\n",
       "    .dataframe tbody tr th:only-of-type {\n",
       "        vertical-align: middle;\n",
       "    }\n",
       "\n",
       "    .dataframe tbody tr th {\n",
       "        vertical-align: top;\n",
       "    }\n",
       "\n",
       "    .dataframe thead th {\n",
       "        text-align: right;\n",
       "    }\n",
       "</style>\n",
       "<table border=\"1\" class=\"dataframe\">\n",
       "  <thead>\n",
       "    <tr style=\"text-align: right;\">\n",
       "      <th></th>\n",
       "      <th>col_0</th>\n",
       "      <th>col_1</th>\n",
       "      <th>col_2</th>\n",
       "      <th>col_3</th>\n",
       "      <th>col_4</th>\n",
       "      <th>anomaly</th>\n",
       "    </tr>\n",
       "  </thead>\n",
       "  <tbody>\n",
       "    <tr>\n",
       "      <th>40000</th>\n",
       "      <td>-0.094802</td>\n",
       "      <td>2.652171</td>\n",
       "      <td>0.018939</td>\n",
       "      <td>4.550506</td>\n",
       "      <td>-6.491240</td>\n",
       "      <td>0</td>\n",
       "    </tr>\n",
       "    <tr>\n",
       "      <th>40001</th>\n",
       "      <td>0.359750</td>\n",
       "      <td>2.256046</td>\n",
       "      <td>0.331234</td>\n",
       "      <td>4.466656</td>\n",
       "      <td>-6.159894</td>\n",
       "      <td>0</td>\n",
       "    </tr>\n",
       "    <tr>\n",
       "      <th>40002</th>\n",
       "      <td>0.823503</td>\n",
       "      <td>2.183344</td>\n",
       "      <td>0.822009</td>\n",
       "      <td>4.316569</td>\n",
       "      <td>-5.682100</td>\n",
       "      <td>0</td>\n",
       "    </tr>\n",
       "    <tr>\n",
       "      <th>40003</th>\n",
       "      <td>1.080265</td>\n",
       "      <td>1.816790</td>\n",
       "      <td>1.056659</td>\n",
       "      <td>3.858038</td>\n",
       "      <td>-5.463839</td>\n",
       "      <td>0</td>\n",
       "    </tr>\n",
       "    <tr>\n",
       "      <th>40004</th>\n",
       "      <td>1.248927</td>\n",
       "      <td>1.374257</td>\n",
       "      <td>1.238567</td>\n",
       "      <td>3.136138</td>\n",
       "      <td>-5.198222</td>\n",
       "      <td>0</td>\n",
       "    </tr>\n",
       "  </tbody>\n",
       "</table>\n",
       "</div>"
      ],
      "text/plain": [
       "          col_0     col_1     col_2     col_3     col_4  anomaly\n",
       "40000 -0.094802  2.652171  0.018939  4.550506 -6.491240        0\n",
       "40001  0.359750  2.256046  0.331234  4.466656 -6.159894        0\n",
       "40002  0.823503  2.183344  0.822009  4.316569 -5.682100        0\n",
       "40003  1.080265  1.816790  1.056659  3.858038 -5.463839        0\n",
       "40004  1.248927  1.374257  1.238567  3.136138 -5.198222        0"
      ]
     },
     "execution_count": 80,
     "metadata": {},
     "output_type": "execute_result"
    }
   ],
   "source": [
    "val_time_series = time_series[40000:]\n",
    "val_time_series.head()"
   ]
  },
  {
   "cell_type": "code",
   "execution_count": 81,
   "metadata": {},
   "outputs": [],
   "source": [
    "train_labels = train_time_series.anomaly.to_numpy()\n",
    "test_labels = test_time_series.anomaly.to_numpy()\n",
    "val_labels = val_time_series.anomaly.to_numpy()"
   ]
  },
  {
   "cell_type": "code",
   "execution_count": 82,
   "metadata": {},
   "outputs": [
    {
     "name": "stdout",
     "output_type": "stream",
     "text": [
      "Train  (20000, 5)\n",
      "Test:  (20000, 5)\n",
      "Val:  (10000, 5)\n"
     ]
    }
   ],
   "source": [
    "train_no_labels = train_time_series.drop(['anomaly'], axis=1).to_numpy()\n",
    "test_no_labels = test_time_series.drop(['anomaly'], axis=1).to_numpy()\n",
    "val_no_labels = val_time_series.drop(['anomaly'], axis=1).to_numpy()\n",
    "print('Train ', train_no_labels.shape)\n",
    "print('Test: ', test_no_labels.shape)\n",
    "print('Val: ', val_no_labels.shape)"
   ]
  },
  {
   "cell_type": "code",
   "execution_count": 83,
   "metadata": {},
   "outputs": [
    {
     "name": "stdout",
     "output_type": "stream",
     "text": [
      "Train ratio:  1.01\n",
      "Val ratio:  0.8999999999999999\n"
     ]
    }
   ],
   "source": [
    "train_ratio = (train_labels.sum() / train_labels.shape[0]) * 100\n",
    "val_ratio = (val_labels.sum() / val_labels.shape[0]) * 100\n",
    "print('Train ratio: ', train_ratio)\n",
    "print('Val ratio: ', val_ratio)"
   ]
  },
  {
   "cell_type": "code",
   "execution_count": 91,
   "metadata": {},
   "outputs": [
    {
     "name": "stdout",
     "output_type": "stream",
     "text": [
      "normalized dataset\n"
     ]
    }
   ],
   "source": [
    "if ORIG != 'pattern_trend':    \n",
    "    train_normalized = abs_normalize(train_no_labels)\n",
    "    val_normalized = abs_normalize(val_no_labels)\n",
    "    test_normalized = abs_normalize(test_no_labels)\n",
    "    print('normalized dataset')"
   ]
  },
  {
   "cell_type": "code",
   "execution_count": 67,
   "metadata": {},
   "outputs": [],
   "source": [
    "def expand_labels(data, labels):\n",
    "    labels_reshaped = np.zeros_like(data)\n",
    "    for idx in range(0, len(labels)):\n",
    "        if labels[idx]:\n",
    "            labels_reshaped[idx][0:labels_reshaped.shape[1]] = 1\n",
    "    return labels_reshaped"
   ]
  },
  {
   "cell_type": "code",
   "execution_count": 14,
   "metadata": {},
   "outputs": [],
   "source": [
    "# val_labels_reshaped = expand_labels(val_normalized, val_labels)\n",
    "# test_labels_reshaped = expand_labels(test_normalized, test_labels)"
   ]
  },
  {
   "cell_type": "code",
   "execution_count": 28,
   "metadata": {},
   "outputs": [],
   "source": [
    "# FOR RATIO ABLATION\n",
    "#test5 = np.load(f'../processed/{ORIG}/test.npy')\n",
    "#labels5 = np.load(f'../processed/{ORIG}/labels.npy')"
   ]
  },
  {
   "cell_type": "code",
   "execution_count": 113,
   "metadata": {},
   "outputs": [],
   "source": [
    "from sklearn.preprocessing import MinMaxScaler\n",
    "\n",
    "def scale_test(test):\n",
    "    scaler = MinMaxScaler(feature_range=(0, 1)).fit(test)\n",
    "\n",
    "    #train_scaled = scaler.transform(train)\n",
    "    test_scaled = scaler.transform(test)\n",
    "\n",
    "    return test_scaled"
   ]
  },
  {
   "cell_type": "code",
   "execution_count": 153,
   "metadata": {},
   "outputs": [],
   "source": [
    "trend5_series = pd.read_csv('trend_train_test_val.csv')\n",
    "test_trend5 = trend5_series[20000:40000]\n",
    "#labels5 = test_trend5.anomaly.to_numpy()\n",
    "#test_trend5 = test_trend5.drop(['anomaly'], axis=1).to_numpy()\n",
    "#labels5 = expand_labels(test_trend5, labels5)"
   ]
  },
  {
   "cell_type": "code",
   "execution_count": 154,
   "metadata": {},
   "outputs": [
    {
     "name": "stdout",
     "output_type": "stream",
     "text": [
      "-97.97744390787436\n",
      "-1.0244058283630473\n"
     ]
    }
   ],
   "source": [
    "print(test_trend5['col_4'].min())\n",
    "print(test_trend5['col_4'].max())"
   ]
  },
  {
   "cell_type": "code",
   "execution_count": 117,
   "metadata": {},
   "outputs": [],
   "source": [
    "#ratio = 1\n",
    "#ds = f'pattern_trend{ratio}_test5'\n",
    "#test5_normalized = scale_test(train_no_labels, test_trend5)\n",
    "test5_normalized = scale_test(test_trend5)\n",
    "#np.save(f'../processed/{ds}/test.npy', normalized_test_for_ds)\n",
    "#np.save(f'../processed/{ds}/labels.npy', labels_5_expanded)"
   ]
  },
  {
   "cell_type": "code",
   "execution_count": 16,
   "metadata": {},
   "outputs": [
    {
     "name": "stdout",
     "output_type": "stream",
     "text": [
      "normalized trend\n"
     ]
    }
   ],
   "source": [
    "# if ORIG == 'pattern_trend':\n",
    "#     train_normalized, test5_normalized, val_normalized = scale_data(train_no_labels, test5, val_no_labels)\n",
    "#     print('normalized trend')"
   ]
  },
  {
   "cell_type": "code",
   "execution_count": 115,
   "metadata": {},
   "outputs": [],
   "source": [
    "val_labels_reshaped = expand_labels(val_normalized, val_labels)\n",
    "#test_labels_reshaped = expand_labels(test_normalized, test_labels)"
   ]
  },
  {
   "cell_type": "code",
   "execution_count": 118,
   "metadata": {},
   "outputs": [
    {
     "name": "stdout",
     "output_type": "stream",
     "text": [
      "saved trend\n"
     ]
    }
   ],
   "source": [
    "import os \n",
    "os.makedirs(f'../processed/{DATASET}_test5', exist_ok=True)\n",
    "# np.save(f'../processed/{DATASET}_test5/train.npy', train_normalized)\n",
    "if ORIG != 'pattern_trend' and ORIG != 'trend':\n",
    "    np.save(f'../processed/{DATASET}_test5/test.npy', test5)\n",
    "    print('saved NOT trend')\n",
    "else:\n",
    "    np.save(f'../processed/{DATASET}_test5/test.npy', test5_normalized)\n",
    "    print('saved trend')\n",
    "np.save(f'../processed/{DATASET}_test5/labels.npy', labels5)\n",
    "# np.save(f'../processed/{DATASET}_test5/validation.npy', val_normalized)\n",
    "# np.save(f'../processed/{DATASET}_test5/labels_validation.npy', val_labels_reshaped)"
   ]
  },
  {
   "cell_type": "code",
   "execution_count": 71,
   "metadata": {},
   "outputs": [
    {
     "data": {
      "text/plain": [
       "(20000, 5)"
      ]
     },
     "execution_count": 71,
     "metadata": {},
     "output_type": "execute_result"
    }
   ],
   "source": [
    "labels_5_reshaped.shape"
   ]
  },
  {
   "cell_type": "code",
   "execution_count": 145,
   "metadata": {},
   "outputs": [],
   "source": [
    "import numpy as np\n",
    "train = np.load('../processed/pattern_trend15_test5/train.npy')"
   ]
  },
  {
   "cell_type": "code",
   "execution_count": 144,
   "metadata": {},
   "outputs": [
    {
     "data": {
      "text/plain": [
       "[<matplotlib.lines.Line2D at 0x7fa4cef2c520>]"
      ]
     },
     "execution_count": 144,
     "metadata": {},
     "output_type": "execute_result"
    },
    {
     "data": {
      "image/png": "[encoded data removed]",
      "text/plain": [
       "<Figure size 640x480 with 1 Axes>"
      ]
     },
     "metadata": {},
     "output_type": "display_data"
    }
   ],
   "source": [
    "import matplotlib.pyplot as plt\n",
    "plt.plot(train[:, 4])"
   ]
  },
  {
   "cell_type": "code",
   "execution_count": 146,
   "metadata": {},
   "outputs": [
    {
     "data": {
      "text/plain": [
       "[<matplotlib.lines.Line2D at 0x7fa4cee9a460>]"
      ]
     },
     "execution_count": 146,
     "metadata": {},
     "output_type": "execute_result"
    },
    {
     "data": {
      "image/png": "[encoded data removed]",
      "text/plain": [
       "<Figure size 640x480 with 1 Axes>"
      ]
     },
     "metadata": {},
     "output_type": "display_data"
    }
   ],
   "source": [
    "import matplotlib.pyplot as plt\n",
    "plt.plot(train[:, 4])"
   ]
  },
  {
   "cell_type": "code",
   "execution_count": 85,
   "metadata": {},
   "outputs": [],
   "source": [
    "np.save(f'../processed/{DATASET}_test5/labels.npy', labels5)"
   ]
  }
 ],
 "metadata": {
  "kernelspec": {
   "display_name": "py3.9test",
   "language": "python",
   "name": "python3"
  },
  "language_info": {
   "codemirror_mode": {
    "name": "ipython",
    "version": 3
   },
   "file_extension": ".py",
   "mimetype": "text/x-python",
   "name": "python",
   "nbconvert_exporter": "python",
   "pygments_lexer": "ipython3",
   "version": "3.9.13"
  },
  "orig_nbformat": 4
 },
 "nbformat": 4,
 "nbformat_minor": 2
}
